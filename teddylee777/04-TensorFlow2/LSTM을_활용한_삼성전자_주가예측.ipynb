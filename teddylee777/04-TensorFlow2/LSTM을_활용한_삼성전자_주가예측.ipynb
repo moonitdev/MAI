{
 "cells": [
  {
   "cell_type": "code",
   "execution_count": 1,
   "id": "criminal-entity",
   "metadata": {},
   "outputs": [],
   "source": [
    "import pandas as pd\n",
    "import numpy as np\n",
    "import matplotlib.pyplot as plt\n",
    "import seaborn as sns\n",
    "import warnings\n",
    "import os\n",
    "\n",
    "%matplotlib inline\n",
    "warnings.filterwarnings('ignore')\n",
    "\n",
    "plt.rcParams['font.family'] = 'NanumGothic'"
   ]
  },
  {
   "cell_type": "code",
   "execution_count": 2,
   "id": "falling-factory",
   "metadata": {},
   "outputs": [
    {
     "name": "stderr",
     "output_type": "stream",
     "text": [
      "'apt'은(는) 내부 또는 외부 명령, 실행할 수 있는 프로그램, 또는\n",
      "배치 파일이 아닙니다.\n"
     ]
    }
   ],
   "source": [
    "%config InlineBackend.figure_format = 'retina'\n",
    " \n",
    "# !apt -qq -y install fonts-nanum"
   ]
  },
  {
   "cell_type": "code",
   "execution_count": null,
   "id": "beautiful-blame",
   "metadata": {},
   "outputs": [],
   "source": [
    "# import matplotlib as mpl\n",
    "# import matplotlib.font_manager as fm\n",
    "# fontpath = '/usr/share/fonts/truetype/nanum/NanumBarunGothic.ttf'\n",
    "# font = fm.FontProperties(fname=fontpath, size=9)\n",
    "# plt.rc('font', family='NanumBarunGothic') \n",
    "# mpl.font_manager._rebuild()"
   ]
  },
  {
   "cell_type": "code",
   "execution_count": null,
   "id": "painted-stuff",
   "metadata": {},
   "outputs": [],
   "source": [
    "from google.colab import drive\n",
    "drive.mount('/content/drive')"
   ]
  },
  {
   "cell_type": "code",
   "execution_count": null,
   "id": "liable-shaft",
   "metadata": {},
   "outputs": [],
   "source": [
    "data_path = '/content/drive/My Drive/Colab Notebooks/03-stock-samsung/data'\n",
    "model_path = '/content/drive/My Drive/Colab Notebooks/03-stock-samsung/model'"
   ]
  },
  {
   "cell_type": "code",
   "execution_count": null,
   "id": "little-bishop",
   "metadata": {},
   "outputs": [],
   "source": [
    "df_price = pd.read_csv(os.path.join(data_path, '01-삼성전자-주가.csv'), encoding='utf8')\n",
    "df_buyer = pd.read_csv(os.path.join(data_path, '02-삼성전자-매매동향.csv'), encoding='utf8')"
   ]
  },
  {
   "cell_type": "code",
   "execution_count": null,
   "id": "silent-indiana",
   "metadata": {},
   "outputs": [],
   "source": [
    "df_price.describe()"
   ]
  },
  {
   "cell_type": "markdown",
   "id": "incorporated-milan",
   "metadata": {},
   "source": [
    "shape가 다름을 확인할 수 있습니다.\n",
    "\n",
    "#### 2-1. return_sequence=False 를 Dense에 넘겨줄 경우"
   ]
  },
  {
   "cell_type": "code",
   "execution_count": null,
   "id": "functioning-school",
   "metadata": {},
   "outputs": [],
   "source": []
  }
 ],
 "metadata": {
  "kernelspec": {
   "display_name": "MAI",
   "language": "python",
   "name": "mai"
  },
  "language_info": {
   "codemirror_mode": {
    "name": "ipython",
    "version": 3
   },
   "file_extension": ".py",
   "mimetype": "text/x-python",
   "name": "python",
   "nbconvert_exporter": "python",
   "pygments_lexer": "ipython3",
   "version": "3.8.5"
  }
 },
 "nbformat": 4,
 "nbformat_minor": 5
}
