{
 "cells": [
  {
   "cell_type": "markdown",
   "id": "early-frontier",
   "metadata": {},
   "source": [
    "## LSTM Layer 파헤치기\n",
    "Sequence 혹은 Time Series (시계열) 데이터를 다룰 때, LSTM layer를 어떻게 활용하여 접근하면 되는지 이해하기 위한 튜토리얼 코드입니다.\n",
    "\n",
    "### 필요한 모듈을 import 합니다."
   ]
  },
  {
   "cell_type": "code",
   "execution_count": 1,
   "id": "asian-satellite",
   "metadata": {},
   "outputs": [],
   "source": [
    "import tensorflow as tf\n",
    "\n",
    "from tensorflow.keras.layers import Dense, Conv1D, LSTM, Input, TimeDistributed\n",
    "from tensorflow.keras.models import Model"
   ]
  },
  {
   "cell_type": "markdown",
   "id": "compliant-source",
   "metadata": {},
   "source": [
    "### 0. Hyper Parameter 설명\n",
    "출처: keras.io\n",
    "\n",
    "- units: 양의 정수, 아웃풋 공간의 차원입니다.\n",
    "- activation: 사용할 활성화 함수 (활성화를 참조하십시오). 디폴트: 쌍곡 탄젠트 (tanh). None을 전달하는 경우, 활성화가 적용되지 않습니다 (다시 말해, \"선형적\" 활성화: a(x) = x).\n",
    "- recurrent_activation: 순환 단계에 사용할 활성화 함수 (활성화를 참조하십시오). 디폴트 값: 하드 시그모이드 (hard_sigmoid). None을 전달하는 경우, 활성화가 적용되지 않습니다 (다시 말해, \"선형적\" 활성화: a(x) = x).\n",
    "- use_bias: 불리언, 레이어가 편향 벡터를 사용하는지 여부.\n",
    "- kernel_initializer: kernel 가중치 행렬의 초기값 설정기. 인풋의 선형적 변형에 사용됩니다 ( 초기값 설정기를 참조하십시오).\n",
    "- recurrent_initializer: recurrent_kernel 가중치 행렬의 초기값 설정기. 순환 상태의 선형적 변형에 사용됩니다 ( 초기값 설정기를 참조하십시오).\n",
    "- bias_initializer: 편향 벡터의 초기값 설정기 ( 초기값 설정기를 참조하십시오).\n",
    "- unit_forget_bias: 불리언. 참일 경우, 초기값 설정 시 망각 회로에 1을 더합니다. 참으로 설정 시 강제적으로 bias_initializer=\"zeros\"가 됩니다. 이는 [Jozefowicz et al. (2015)](http://www.jmlr.org/proceedings/papers/v37/jozefowicz15.pdf) 에서 권장됩니다. .\n",
    "- kernel_regularizer: kernel 가중치 행렬에 적용되는 정규화 함수 (정규화를 참조하십시오).\n",
    "- recurrent_regularizer: recurrent_kernel 가중치 행렬에 적용되는 정규화 함수 (정규화를 참조하십시오).\n",
    "- bias_regularizer: 편향 벡터에 적용되는 정규화 함수 (정규화를 참조하십시오).\n",
    "- activity_regularizer: 레이어의 아웃풋(레이어의 “활성화”)에 적용되는 정규화 함수 (정규화를 참조하십시오).\n",
    "- kernel_constraint: kernel 가중치 행렬에 적용되는 제약 함수 (제약을 참조하십시오).\n",
    "- recurrent_constraint: recurrent_kernel 가중치 행렬에 적용되는 제약 함수 (제약을 참조하십시오).\n",
    "- bias_constraint: 편향 벡터에 적용하는 제약 함수 (제약을 참조하십시오).\n",
    "- dropout: 0과 1사이 부동소수점. 인풋의 선형적 변형을 실행하는데 드롭시킬(고려하지 않을) 유닛의 비율.\n",
    "- recurrent_dropout: 0과 1사이 부동소수점. 순환 상태의 선형적 변형을 실행하는데 드롭시킬(고려하지 않을) 유닛의 비율.\n",
    "- implementation: 실행 모드, 1 혹은 2. 모드 1은 비교적 많은 수의 소규모의 점곱과 덧셈을 이용해 연산을 구성하는데 반해, 모드 2는 이를 소수의 대규모 연산으로 묶습니다. 이 두 모드는, 하드웨어나 어플리케이션에 따라서 성능의 차이를 보입니다.\n",
    "- return_sequences: 불리언. 아웃풋 시퀀스의 마지막 아웃풋을 반환할지, 혹은 시퀀스 전체를 반환할지 여부.\n",
    "- return_state: 불리언. 아웃풋에 더해 마지막 상태도 반환할지 여부. 상태 리스트의 반환된 성분은 각각 은닉 성분과 셀 상태입니다.\n",
    "- go_backwards: 불리언 (디폴트 값은 거짓). 참인 경우, 인풋 시퀀스를 거꾸로 처리하여 뒤집힌 시퀀스를 반환합니다.\n",
    "- stateful: 불리언 (디폴트 값은 거짓). 참인 경우, 배치 내 색인 i의 각 샘플의 마지막 상태가 다음 배치의 색인 i 샘플의 초기 상태로 사용됩니다.\n",
    "- unroll: 불리언 (디폴트 값은 거짓). 참인 경우, 신경망을 펼쳐서 사용하고 그렇지 않은 경우 심볼릭 루프가 사용됩니다. 신경망을 펼쳐 순환 신경망의 속도를 높일 수 있지만, 메모리 소모가 큰 경향이 있습니다. 신경망 펼치기는 짧은 시퀀스에만 적합합니다.\n",
    "\n",
    "### 1. LSTM Layer와 input_shape\n",
    "주요 hyper parameter는 다음과 같습니다.\n",
    "\n",
    "- batch: 32\n",
    "- time_step: 3\n",
    "- window_size: 25\n",
    "\n",
    "#### sample data 생성\n",
    "아래와 같이 샘플 데이터를 생성합니다."
   ]
  },
  {
   "cell_type": "code",
   "execution_count": 2,
   "id": "parental-orbit",
   "metadata": {},
   "outputs": [],
   "source": [
    "x = tf.random.uniform(shape=(32, 25, 1))"
   ]
  },
  {
   "cell_type": "code",
   "execution_count": 3,
   "id": "dangerous-express",
   "metadata": {},
   "outputs": [
    {
     "data": {
      "text/plain": [
       "TensorShape([32, 25, 1])"
      ]
     },
     "execution_count": 3,
     "metadata": {},
     "output_type": "execute_result"
    }
   ],
   "source": [
    "x.shape"
   ]
  },
  {
   "cell_type": "code",
   "execution_count": null,
   "id": "cooked-messaging",
   "metadata": {},
   "outputs": [],
   "source": [
    "32는 batch의 크기, 25는 time_step의 크기, 1은 feature의 갯수를 나타냅니다.\n",
    "\n",
    "여기서 batch는 얼마만큼 batch로 묶어 주느냐에 따라 달라지는 hyper parameter이므로 크게 걱정할 이유가 없습니다.\n",
    "\n",
    "25는 window_size를 나타내며, 일자로 예를 들자면, 25일치의 time_step을 input으로 공급하겠다는 겁니다.\n",
    "\n",
    "1은 feature_size이며, 주가 데이터를 예로 들자면, 종가 데이터 한 개만 본다면 1로 설정합니다.\n",
    "\n",
    "만약에, [종가, 시가, 고가] 3가지 feature를 모두 본다면, 3이 될 것 입니다.\n",
    "\n",
    "#### 1-1. return_sequences=False 인 경우"
   ]
  },
  {
   "cell_type": "code",
   "execution_count": 4,
   "id": "ranging-joint",
   "metadata": {},
   "outputs": [],
   "source": [
    "lstm = LSTM(20)"
   ]
  },
  {
   "cell_type": "code",
   "execution_count": 5,
   "id": "framed-character",
   "metadata": {},
   "outputs": [],
   "source": [
    "output_a = lstm(x)"
   ]
  },
  {
   "cell_type": "code",
   "execution_count": 6,
   "id": "neither-kuwait",
   "metadata": {},
   "outputs": [
    {
     "data": {
      "text/plain": [
       "<tf.Tensor: shape=(5, 20), dtype=float32, numpy=\n",
       "array([[ 0.1517384 ,  0.06677328,  0.12768444, -0.13893387,  0.06300796,\n",
       "         0.03913334, -0.14013042, -0.10510724, -0.17377186, -0.05460759,\n",
       "        -0.11427589,  0.16377658, -0.17032014, -0.13667141,  0.01065405,\n",
       "         0.0583236 , -0.03375912,  0.02317264, -0.13976483, -0.04736975],\n",
       "       [ 0.14443356,  0.0636319 ,  0.11919659, -0.1263673 ,  0.05633989,\n",
       "         0.03493879, -0.13227922, -0.09603471, -0.15708697, -0.04982033,\n",
       "        -0.10312618,  0.14518668, -0.15773733, -0.12592201,  0.00759121,\n",
       "         0.05118459, -0.02929701,  0.01830531, -0.12659898, -0.03940209],\n",
       "       [ 0.14678498,  0.06531915,  0.12166052, -0.12388945,  0.05478437,\n",
       "         0.03582085, -0.13263544, -0.09866769, -0.15393342, -0.0502392 ,\n",
       "        -0.10422894,  0.14497423, -0.15639874, -0.12515733,  0.00749062,\n",
       "         0.0484067 , -0.03082696,  0.01784937, -0.12401483, -0.04019998],\n",
       "       [ 0.12644845,  0.04411152,  0.0711825 , -0.09347108,  0.04206496,\n",
       "         0.01608715, -0.08521777, -0.05201232, -0.09575812, -0.0302647 ,\n",
       "        -0.06083002,  0.08516583, -0.09722525, -0.07757817,  0.00455701,\n",
       "         0.04662503, -0.00091641,  0.00085019, -0.08881411, -0.01268628],\n",
       "       [ 0.1258881 ,  0.05069652,  0.09910931, -0.10288399,  0.05135574,\n",
       "         0.02863329, -0.10945447, -0.08401878, -0.13736404, -0.04158077,\n",
       "        -0.09302515,  0.12755582, -0.13115914, -0.11005448,  0.0079177 ,\n",
       "         0.04456467, -0.03099027,  0.01877037, -0.11167789, -0.04050334]],\n",
       "      dtype=float32)>"
      ]
     },
     "execution_count": 6,
     "metadata": {},
     "output_type": "execute_result"
    }
   ],
   "source": [
    "output_a[:5]"
   ]
  },
  {
   "cell_type": "code",
   "execution_count": 7,
   "id": "sexual-night",
   "metadata": {},
   "outputs": [
    {
     "data": {
      "text/plain": [
       "TensorShape([32, 20])"
      ]
     },
     "execution_count": 7,
     "metadata": {},
     "output_type": "execute_result"
    }
   ],
   "source": [
    "output_a.shape"
   ]
  },
  {
   "cell_type": "markdown",
   "id": "unlimited-sitting",
   "metadata": {},
   "source": [
    "**결과 해석**\n",
    "\n",
    "output_a의 shape이 (32, 20)으로 출력됨을 확인할 수 있습니다.\n",
    "shape가 (32, 20)의 32는 batch의 갯수, 20은 LSTM에서 지정한 unit 수입니다.\n",
    "\n",
    "#### 1-2. return_sequences=True 인 경우"
   ]
  },
  {
   "cell_type": "code",
   "execution_count": 8,
   "id": "executive-space",
   "metadata": {},
   "outputs": [],
   "source": [
    "lstm = LSTM(20, return_sequences=True)"
   ]
  },
  {
   "cell_type": "code",
   "execution_count": 9,
   "id": "blocked-harrison",
   "metadata": {},
   "outputs": [],
   "source": [
    "output_b = lstm(x)"
   ]
  },
  {
   "cell_type": "code",
   "execution_count": 10,
   "id": "super-dover",
   "metadata": {},
   "outputs": [
    {
     "data": {
      "text/plain": [
       "<tf.Tensor: shape=(5, 25, 20), dtype=float32, numpy=\n",
       "array([[[-2.31284299e-03, -5.96597837e-03, -1.32914316e-02, ...,\n",
       "         -8.30985047e-03, -2.95070428e-02, -7.34834140e-03],\n",
       "        [-3.12436349e-03, -2.89738155e-03, -1.02427853e-02, ...,\n",
       "         -9.42260120e-03, -2.62237620e-02, -8.46969243e-03],\n",
       "        [-4.64760698e-03, -3.94235225e-03, -1.42163578e-02, ...,\n",
       "         -1.36878109e-02, -3.89235318e-02, -1.21558951e-02],\n",
       "        ...,\n",
       "        [-3.96395475e-02,  3.69881862e-03, -2.73923557e-02, ...,\n",
       "         -7.29250237e-02, -1.91806704e-01, -7.48594329e-02],\n",
       "        [-3.95453051e-02,  3.09722600e-05, -2.97634061e-02, ...,\n",
       "         -7.12744594e-02, -1.99186832e-01, -7.11652711e-02],\n",
       "        [-4.15909030e-02, -8.33782088e-03, -4.37438898e-02, ...,\n",
       "         -7.70458952e-02, -2.35217780e-01, -7.58226737e-02]],\n",
       "\n",
       "       [[-1.71032373e-03, -4.32417961e-03, -9.84261371e-03, ...,\n",
       "         -6.13591960e-03, -2.14421209e-02, -5.44094620e-03],\n",
       "        [-7.66024971e-03, -1.75753534e-02, -3.79579328e-02, ...,\n",
       "         -2.63036545e-02, -9.59108472e-02, -2.28984766e-02],\n",
       "        [-1.14516579e-02, -1.24997143e-02, -4.04850654e-02, ...,\n",
       "         -3.56835797e-02, -1.09453194e-01, -3.23448069e-02],\n",
       "        ...,\n",
       "        [-3.88906635e-02, -5.53324306e-03, -4.56551574e-02, ...,\n",
       "         -7.67842531e-02, -2.21547484e-01, -7.50351995e-02],\n",
       "        [-3.71154696e-02,  2.41675414e-03, -3.03448923e-02, ...,\n",
       "         -6.97563365e-02, -1.81992576e-01, -6.99427649e-02],\n",
       "        [-3.83246690e-02, -3.53200804e-03, -3.83298136e-02, ...,\n",
       "         -7.26611391e-02, -2.09876493e-01, -7.03208521e-02]],\n",
       "\n",
       "       [[-4.97100875e-03, -1.39696188e-02, -2.83371210e-02, ...,\n",
       "         -1.79684050e-02, -6.77794591e-02, -1.56715456e-02],\n",
       "        [-1.04483319e-02, -1.73785314e-02, -4.41900939e-02, ...,\n",
       "         -3.42589170e-02, -1.15881041e-01, -3.03544849e-02],\n",
       "        [-1.54712722e-02, -1.53759355e-02, -5.18987663e-02, ...,\n",
       "         -4.76441942e-02, -1.48970902e-01, -4.29832228e-02],\n",
       "        ...,\n",
       "        [-3.81696858e-02, -1.29174124e-02, -5.31967580e-02, ...,\n",
       "         -7.54931420e-02, -2.35498741e-01, -7.26156607e-02],\n",
       "        [-3.76337618e-02, -2.92322366e-03, -4.02917266e-02, ...,\n",
       "         -7.22234771e-02, -1.99429333e-01, -7.25817233e-02],\n",
       "        [-3.81975695e-02, -2.80730892e-03, -3.88810486e-02, ...,\n",
       "         -7.26130605e-02, -2.04798728e-01, -7.13543296e-02]],\n",
       "\n",
       "       [[-3.19153885e-03, -8.47332086e-03, -1.82984937e-02, ...,\n",
       "         -1.14909038e-02, -4.17014807e-02, -1.01180533e-02],\n",
       "        [-6.69164164e-03, -1.04743475e-02, -2.80079320e-02, ...,\n",
       "         -2.16996763e-02, -7.02982470e-02, -1.92904677e-02],\n",
       "        [-1.12101818e-02, -1.32240839e-02, -3.99915464e-02, ...,\n",
       "         -3.47566158e-02, -1.10353321e-01, -3.09643056e-02],\n",
       "        ...,\n",
       "        [-3.40211652e-02, -5.00819786e-03, -4.49164212e-02, ...,\n",
       "         -6.95844293e-02, -1.97051182e-01, -6.77385777e-02],\n",
       "        [-3.27279456e-02,  2.56679230e-03, -2.98139099e-02, ...,\n",
       "         -6.36430234e-02, -1.63710341e-01, -6.27636388e-02],\n",
       "        [-3.00528873e-02,  7.31238583e-03, -1.44546190e-02, ...,\n",
       "         -5.38195707e-02, -1.28508642e-01, -5.26194349e-02]],\n",
       "\n",
       "       [[-6.12993841e-04, -1.49332033e-03, -3.53519665e-03, ...,\n",
       "         -2.19296617e-03, -7.42709870e-03, -1.95370638e-03],\n",
       "        [-1.46489777e-03, -2.29273853e-03, -6.30910462e-03, ...,\n",
       "         -4.72869305e-03, -1.45341344e-02, -4.20858758e-03],\n",
       "        [-5.52676246e-03, -1.12406770e-02, -2.61638612e-02, ...,\n",
       "         -1.85358878e-02, -6.43163174e-02, -1.62769351e-02],\n",
       "        ...,\n",
       "        [-3.34958807e-02, -7.35113584e-03, -2.98518389e-02, ...,\n",
       "         -5.72861619e-02, -1.73229426e-01, -5.47104217e-02],\n",
       "        [-3.23185995e-02, -2.55079940e-03, -2.21217461e-02, ...,\n",
       "         -5.28831258e-02, -1.45080537e-01, -5.22681400e-02],\n",
       "        [-3.46074998e-02, -1.06443707e-02, -3.66004407e-02, ...,\n",
       "         -6.00154065e-02, -1.84911430e-01, -5.71004972e-02]]],\n",
       "      dtype=float32)>"
      ]
     },
     "execution_count": 10,
     "metadata": {},
     "output_type": "execute_result"
    }
   ],
   "source": [
    "output_b[:5]"
   ]
  },
  {
   "cell_type": "code",
   "execution_count": 11,
   "id": "nuclear-briefing",
   "metadata": {},
   "outputs": [
    {
     "data": {
      "text/plain": [
       "TensorShape([32, 25, 20])"
      ]
     },
     "execution_count": 11,
     "metadata": {},
     "output_type": "execute_result"
    }
   ],
   "source": [
    "output_b.shape"
   ]
  },
  {
   "cell_type": "markdown",
   "id": "weird-there",
   "metadata": {},
   "source": [
    "**결과 해석**\n",
    "\n",
    "output_b의 shape이 (32, 25, 20)으로 출력됌을 확인할 수 있습니다.\n",
    "shape가 (32, 25, 20)의 32는 batch의 갯수, (25, 20)은 LSTM에서 지정한 unit 수입니다.\n",
    "\n",
    "### 2. LSTM layer의 결과 값을 Dense로 넘겨줄 경우\n",
    "아래와 같이 output_a는 return_sequence=False 에 대한 결과 값이며,\n",
    "\n",
    "output_b는 return_sequences=True 에 대한 결과 값입니다."
   ]
  },
  {
   "cell_type": "code",
   "execution_count": 13,
   "id": "governing-vitamin",
   "metadata": {},
   "outputs": [
    {
     "data": {
      "text/plain": [
       "TensorShape([32, 20])"
      ]
     },
     "execution_count": 13,
     "metadata": {},
     "output_type": "execute_result"
    }
   ],
   "source": [
    "output_a.shape"
   ]
  },
  {
   "cell_type": "code",
   "execution_count": 14,
   "id": "packed-grade",
   "metadata": {},
   "outputs": [],
   "source": [
    "dense = Dense(10)"
   ]
  },
  {
   "cell_type": "code",
   "execution_count": 15,
   "id": "announced-nurse",
   "metadata": {},
   "outputs": [
    {
     "data": {
      "text/plain": [
       "TensorShape([32, 10])"
      ]
     },
     "execution_count": 15,
     "metadata": {},
     "output_type": "execute_result"
    }
   ],
   "source": [
    "dense(output_a).shape"
   ]
  },
  {
   "cell_type": "markdown",
   "id": "hearing-cabin",
   "metadata": {},
   "source": [
    "위의 결과에서도 나타나듯이, LSTM으로부터 넘겨 받은 20개의 unit이 Dense를 거쳐 10개로 변환됩니다.\n",
    "\n",
    "#### 2-2. return_sequence=True 를 Dense에 넘겨줄 경우"
   ]
  },
  {
   "cell_type": "code",
   "execution_count": 16,
   "id": "determined-import",
   "metadata": {},
   "outputs": [
    {
     "data": {
      "text/plain": [
       "TensorShape([32, 25, 20])"
      ]
     },
     "execution_count": 16,
     "metadata": {},
     "output_type": "execute_result"
    }
   ],
   "source": [
    "output_b.shape"
   ]
  },
  {
   "cell_type": "code",
   "execution_count": 17,
   "id": "efficient-minimum",
   "metadata": {},
   "outputs": [],
   "source": [
    "dense = Dense(10)"
   ]
  },
  {
   "cell_type": "code",
   "execution_count": 18,
   "id": "hidden-search",
   "metadata": {},
   "outputs": [
    {
     "data": {
      "text/plain": [
       "TensorShape([32, 25, 10])"
      ]
     },
     "execution_count": 18,
     "metadata": {},
     "output_type": "execute_result"
    }
   ],
   "source": [
    "dense(output_b).shape"
   ]
  },
  {
   "cell_type": "markdown",
   "id": "sporting-senior",
   "metadata": {},
   "source": [
    "이번에도 마찬가지로, LSTM으로부터 넘겨 받은 20개의 unit이 Dense를 거쳐 10개로 변환됩니다.\n",
    "\n",
    "단, shape는 이전 케이스와는 다르게 모든 sequence에 대한 유닛 20개를 10개로 변환된 것을 확인할 수 있습니다.\n",
    "\n",
    "#### 2-3. TimeDistributed layer 활용\n",
    "TimeDistributed layer는 return_sequences=True 인 경우, sequence로 받은 데이터에 대하여 처리할 수 있지만, 사실상 Dense를 써주면 동작은 동일하게 나타납니다.\n",
    "\n",
    "유의해야할 점은, return_sequences=False로 받은 값은 2차원이기 때문에 TimeDistributed에 넘겨줄 수 없습니다.\n",
    "\n",
    "##### Dense를 사용한 경우"
   ]
  },
  {
   "cell_type": "code",
   "execution_count": null,
   "id": "liable-maple",
   "metadata": {},
   "outputs": [],
   "source": [
    "dense = Dense(10)"
   ]
  },
  {
   "cell_type": "code",
   "execution_count": 19,
   "id": "israeli-pioneer",
   "metadata": {},
   "outputs": [
    {
     "data": {
      "text/plain": [
       "TensorShape([32, 25, 10])"
      ]
     },
     "execution_count": 19,
     "metadata": {},
     "output_type": "execute_result"
    }
   ],
   "source": [
    "dense(output_b).shape"
   ]
  },
  {
   "cell_type": "markdown",
   "id": "opening-ridge",
   "metadata": {},
   "source": [
    "##### TimeDistributed를 사용한 경우"
   ]
  },
  {
   "cell_type": "code",
   "execution_count": 20,
   "id": "natural-sphere",
   "metadata": {},
   "outputs": [],
   "source": [
    "time = TimeDistributed(Dense(10))"
   ]
  },
  {
   "cell_type": "code",
   "execution_count": 21,
   "id": "committed-quantum",
   "metadata": {},
   "outputs": [
    {
     "data": {
      "text/plain": [
       "TensorShape([32, 25, 10])"
      ]
     },
     "execution_count": 21,
     "metadata": {},
     "output_type": "execute_result"
    }
   ],
   "source": [
    "time(output_b).shape"
   ]
  },
  {
   "cell_type": "markdown",
   "id": "bizarre-payment",
   "metadata": {},
   "source": [
    "### 3. cell state와 hidden layer\n",
    "LSTM layer에서 결과 값에 대한 hidden layer 값과, cell state를 받아볼 수 있습니다."
   ]
  },
  {
   "cell_type": "code",
   "execution_count": 22,
   "id": "ethical-architecture",
   "metadata": {},
   "outputs": [],
   "source": [
    "lstm = LSTM(20, return_sequences=True, return_state=True)"
   ]
  },
  {
   "cell_type": "code",
   "execution_count": 23,
   "id": "israeli-pointer",
   "metadata": {},
   "outputs": [],
   "source": [
    "output_c, _hidden, _state = lstm(x)"
   ]
  },
  {
   "cell_type": "code",
   "execution_count": 24,
   "id": "liked-tutorial",
   "metadata": {},
   "outputs": [
    {
     "data": {
      "text/plain": [
       "TensorShape([32, 25, 20])"
      ]
     },
     "execution_count": 24,
     "metadata": {},
     "output_type": "execute_result"
    }
   ],
   "source": [
    "output_c.shape"
   ]
  },
  {
   "cell_type": "code",
   "execution_count": 25,
   "id": "conscious-champion",
   "metadata": {},
   "outputs": [
    {
     "data": {
      "text/plain": [
       "TensorShape([32, 20])"
      ]
     },
     "execution_count": 25,
     "metadata": {},
     "output_type": "execute_result"
    }
   ],
   "source": [
    "_hidden.shape"
   ]
  },
  {
   "cell_type": "code",
   "execution_count": 26,
   "id": "olive-pharmacology",
   "metadata": {},
   "outputs": [
    {
     "data": {
      "text/plain": [
       "TensorShape([32, 20])"
      ]
     },
     "execution_count": 26,
     "metadata": {},
     "output_type": "execute_result"
    }
   ],
   "source": [
    "_state.shape"
   ]
  },
  {
   "cell_type": "code",
   "execution_count": null,
   "id": "organized-essence",
   "metadata": {},
   "outputs": [],
   "source": []
  }
 ],
 "metadata": {
  "kernelspec": {
   "display_name": "MAI",
   "language": "python",
   "name": "mai"
  },
  "language_info": {
   "codemirror_mode": {
    "name": "ipython",
    "version": 3
   },
   "file_extension": ".py",
   "mimetype": "text/x-python",
   "name": "python",
   "nbconvert_exporter": "python",
   "pygments_lexer": "ipython3",
   "version": "3.8.5"
  }
 },
 "nbformat": 4,
 "nbformat_minor": 5
}
