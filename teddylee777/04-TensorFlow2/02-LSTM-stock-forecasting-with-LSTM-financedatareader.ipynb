{
 "cells": [
  {
   "cell_type": "markdown",
   "id": "pediatric-producer",
   "metadata": {},
   "source": [
    "## LSTM을 활용한 주가 예측 모델\n",
    "이번 튜토리얼 에서는 다음과 같은 프로세스 파이프라인으로 주가 예측을 진행합니다.\n",
    "\n",
    "- FinanceDataReader를 활용하여 주가 데이터 받아오기\n",
    "- TensorFlow Dataset 클래스를 활용하여 주가 데이터 구축\n",
    "- LSTM 을 활용한 주가 예측 모델 구축\n",
    "\n",
    "### 필요한 모듈 import"
   ]
  },
  {
   "cell_type": "code",
   "execution_count": 24,
   "id": "green-protection",
   "metadata": {},
   "outputs": [],
   "source": [
    "import pandas as pd\n",
    "import numpy as np\n",
    "import matplotlib.pyplot as plt\n",
    "import seaborn as sns\n",
    "import warnings\n",
    "import os\n",
    "\n",
    "%matplotlib inline\n",
    "warnings.filterwarnings('ignore')\n",
    "\n",
    "plt.rcParams['font.family'] = 'NanumGothic'"
   ]
  },
  {
   "cell_type": "markdown",
   "id": "neutral-bhutan",
   "metadata": {},
   "source": [
    "### 데이터 (FinanceDataReader)\n",
    "FinanceDataReader는 주가 데이터를 편리하게 가져올 수 있는 파이썬 패키지입니다.\n",
    "\n",
    "- [GitHub Repo](https://github.com/FinanceData/FinanceDataReader)\n",
    "FinanceDataReader가 아직 설치 되지 않으신 분들은 아래의 주석을 해제한 후 명령어로 설치해 주시기 바랍니다."
   ]
  },
  {
   "cell_type": "code",
   "execution_count": 1,
   "id": "backed-stage",
   "metadata": {},
   "outputs": [
    {
     "name": "stdout",
     "output_type": "stream",
     "text": [
      "Collecting finance-datareader\n",
      "  Downloading finance_datareader-0.9.20-py3-none-any.whl (16 kB)\n",
      "Requirement already satisfied: pandas>=0.19.2 in c:\\users\\orm005\\anaconda3\\envs\\mai\\lib\\site-packages (from finance-datareader) (1.2.1)\n",
      "Requirement already satisfied: tqdm in c:\\users\\orm005\\anaconda3\\envs\\mai\\lib\\site-packages (from finance-datareader) (4.56.0)\n",
      "Requirement already satisfied: numpy>=1.16.5 in c:\\users\\orm005\\anaconda3\\envs\\mai\\lib\\site-packages (from pandas>=0.19.2->finance-datareader) (1.19.2)\n",
      "Requirement already satisfied: python-dateutil>=2.7.3 in c:\\users\\orm005\\anaconda3\\envs\\mai\\lib\\site-packages (from pandas>=0.19.2->finance-datareader) (2.8.1)\n",
      "Requirement already satisfied: pytz>=2017.3 in c:\\users\\orm005\\anaconda3\\envs\\mai\\lib\\site-packages (from pandas>=0.19.2->finance-datareader) (2020.5)\n",
      "Requirement already satisfied: six>=1.5 in c:\\users\\orm005\\anaconda3\\envs\\mai\\lib\\site-packages (from python-dateutil>=2.7.3->pandas>=0.19.2->finance-datareader) (1.15.0)\n",
      "Collecting requests>=2.3.0\n",
      "  Downloading requests-2.25.1-py2.py3-none-any.whl (61 kB)\n",
      "Requirement already satisfied: certifi>=2017.4.17 in c:\\users\\orm005\\anaconda3\\envs\\mai\\lib\\site-packages (from requests>=2.3.0->finance-datareader) (2020.12.5)\n",
      "Collecting chardet<5,>=3.0.2\n",
      "  Downloading chardet-4.0.0-py2.py3-none-any.whl (178 kB)\n",
      "Collecting idna<3,>=2.5\n",
      "  Using cached idna-2.10-py2.py3-none-any.whl (58 kB)\n",
      "Collecting urllib3<1.27,>=1.21.1\n",
      "  Downloading urllib3-1.26.3-py2.py3-none-any.whl (137 kB)\n",
      "Collecting lxml\n",
      "  Using cached lxml-4.6.2-cp38-cp38-win_amd64.whl (3.5 MB)\n",
      "Collecting requests-file\n",
      "  Downloading requests_file-1.5.1-py2.py3-none-any.whl (3.7 kB)\n",
      "Installing collected packages: urllib3, idna, chardet, requests, requests-file, lxml, finance-datareader\n",
      "Successfully installed chardet-4.0.0 finance-datareader-0.9.20 idna-2.10 lxml-4.6.2 requests-2.25.1 requests-file-1.5.1 urllib3-1.26.3\n"
     ]
    }
   ],
   "source": [
    "# !pip install finance-datareader"
   ]
  },
  {
   "cell_type": "code",
   "execution_count": 3,
   "id": "processed-logan",
   "metadata": {},
   "outputs": [],
   "source": [
    "import FinanceDataReader as fdr\n",
    "\n",
    "# BUG: ModuleNotFoundError: No module named 'bs4'\n",
    "# SOL: pip install beautifulsoup4"
   ]
  },
  {
   "cell_type": "code",
   "execution_count": 6,
   "id": "lesser-blond",
   "metadata": {},
   "outputs": [
    {
     "name": "stderr",
     "output_type": "stream",
     "text": [
      "C:\\Users\\ORM005\\Anaconda3\\envs\\mai\\lib\\site-packages\\FinanceDataReader\\wikipedia\\listing.py:13: FutureWarning: The default value of regex will change from True to False in a future version.\n",
      "  df['Symbol'] = df['Symbol'].str.replace('\\.', '')\n"
     ]
    },
    {
     "data": {
      "text/html": [
       "<div>\n",
       "<style scoped>\n",
       "    .dataframe tbody tr th:only-of-type {\n",
       "        vertical-align: middle;\n",
       "    }\n",
       "\n",
       "    .dataframe tbody tr th {\n",
       "        vertical-align: top;\n",
       "    }\n",
       "\n",
       "    .dataframe thead th {\n",
       "        text-align: right;\n",
       "    }\n",
       "</style>\n",
       "<table border=\"1\" class=\"dataframe\">\n",
       "  <thead>\n",
       "    <tr style=\"text-align: right;\">\n",
       "      <th></th>\n",
       "      <th>Symbol</th>\n",
       "      <th>Name</th>\n",
       "      <th>Sector</th>\n",
       "      <th>Industry</th>\n",
       "    </tr>\n",
       "  </thead>\n",
       "  <tbody>\n",
       "    <tr>\n",
       "      <th>0</th>\n",
       "      <td>MMM</td>\n",
       "      <td>3M Company</td>\n",
       "      <td>Industrials</td>\n",
       "      <td>Industrial Conglomerates</td>\n",
       "    </tr>\n",
       "    <tr>\n",
       "      <th>1</th>\n",
       "      <td>ABT</td>\n",
       "      <td>Abbott Laboratories</td>\n",
       "      <td>Health Care</td>\n",
       "      <td>Health Care Equipment</td>\n",
       "    </tr>\n",
       "    <tr>\n",
       "      <th>2</th>\n",
       "      <td>ABBV</td>\n",
       "      <td>AbbVie Inc.</td>\n",
       "      <td>Health Care</td>\n",
       "      <td>Pharmaceuticals</td>\n",
       "    </tr>\n",
       "    <tr>\n",
       "      <th>3</th>\n",
       "      <td>ABMD</td>\n",
       "      <td>ABIOMED Inc</td>\n",
       "      <td>Health Care</td>\n",
       "      <td>Health Care Equipment</td>\n",
       "    </tr>\n",
       "    <tr>\n",
       "      <th>4</th>\n",
       "      <td>ACN</td>\n",
       "      <td>Accenture plc</td>\n",
       "      <td>Information Technology</td>\n",
       "      <td>IT Consulting &amp; Other Services</td>\n",
       "    </tr>\n",
       "    <tr>\n",
       "      <th>5</th>\n",
       "      <td>ATVI</td>\n",
       "      <td>Activision Blizzard</td>\n",
       "      <td>Communication Services</td>\n",
       "      <td>Interactive Home Entertainment</td>\n",
       "    </tr>\n",
       "    <tr>\n",
       "      <th>6</th>\n",
       "      <td>ADBE</td>\n",
       "      <td>Adobe Inc.</td>\n",
       "      <td>Information Technology</td>\n",
       "      <td>Application Software</td>\n",
       "    </tr>\n",
       "    <tr>\n",
       "      <th>7</th>\n",
       "      <td>AMD</td>\n",
       "      <td>Advanced Micro Devices Inc</td>\n",
       "      <td>Information Technology</td>\n",
       "      <td>Semiconductors</td>\n",
       "    </tr>\n",
       "    <tr>\n",
       "      <th>8</th>\n",
       "      <td>AAP</td>\n",
       "      <td>Advance Auto Parts</td>\n",
       "      <td>Consumer Discretionary</td>\n",
       "      <td>Automotive Retail</td>\n",
       "    </tr>\n",
       "    <tr>\n",
       "      <th>9</th>\n",
       "      <td>AES</td>\n",
       "      <td>AES Corp</td>\n",
       "      <td>Utilities</td>\n",
       "      <td>Independent Power Producers &amp; Energy Traders</td>\n",
       "    </tr>\n",
       "  </tbody>\n",
       "</table>\n",
       "</div>"
      ],
      "text/plain": [
       "  Symbol                        Name                  Sector  \\\n",
       "0    MMM                  3M Company             Industrials   \n",
       "1    ABT         Abbott Laboratories             Health Care   \n",
       "2   ABBV                 AbbVie Inc.             Health Care   \n",
       "3   ABMD                 ABIOMED Inc             Health Care   \n",
       "4    ACN               Accenture plc  Information Technology   \n",
       "5   ATVI         Activision Blizzard  Communication Services   \n",
       "6   ADBE                  Adobe Inc.  Information Technology   \n",
       "7    AMD  Advanced Micro Devices Inc  Information Technology   \n",
       "8    AAP          Advance Auto Parts  Consumer Discretionary   \n",
       "9    AES                    AES Corp               Utilities   \n",
       "\n",
       "                                       Industry  \n",
       "0                      Industrial Conglomerates  \n",
       "1                         Health Care Equipment  \n",
       "2                               Pharmaceuticals  \n",
       "3                         Health Care Equipment  \n",
       "4                IT Consulting & Other Services  \n",
       "5                Interactive Home Entertainment  \n",
       "6                          Application Software  \n",
       "7                                Semiconductors  \n",
       "8                             Automotive Retail  \n",
       "9  Independent Power Producers & Energy Traders  "
      ]
     },
     "execution_count": 6,
     "metadata": {},
     "output_type": "execute_result"
    }
   ],
   "source": [
    "# import FinanceDataReader as fdr\n",
    "# sp500 = fdr.StockListing('S&P500')\n",
    "# sp500.head(10)"
   ]
  },
  {
   "cell_type": "code",
   "execution_count": 9,
   "id": "expressed-spread",
   "metadata": {},
   "outputs": [
    {
     "data": {
      "text/html": [
       "<div>\n",
       "<style scoped>\n",
       "    .dataframe tbody tr th:only-of-type {\n",
       "        vertical-align: middle;\n",
       "    }\n",
       "\n",
       "    .dataframe tbody tr th {\n",
       "        vertical-align: top;\n",
       "    }\n",
       "\n",
       "    .dataframe thead th {\n",
       "        text-align: right;\n",
       "    }\n",
       "</style>\n",
       "<table border=\"1\" class=\"dataframe\">\n",
       "  <thead>\n",
       "    <tr style=\"text-align: right;\">\n",
       "      <th></th>\n",
       "      <th>Close</th>\n",
       "      <th>Open</th>\n",
       "      <th>High</th>\n",
       "      <th>Low</th>\n",
       "      <th>Volume</th>\n",
       "      <th>Change</th>\n",
       "    </tr>\n",
       "    <tr>\n",
       "      <th>Date</th>\n",
       "      <th></th>\n",
       "      <th></th>\n",
       "      <th></th>\n",
       "      <th></th>\n",
       "      <th></th>\n",
       "      <th></th>\n",
       "    </tr>\n",
       "  </thead>\n",
       "  <tbody>\n",
       "    <tr>\n",
       "      <th>2017-01-03</th>\n",
       "      <td>29.04</td>\n",
       "      <td>28.95</td>\n",
       "      <td>29.08</td>\n",
       "      <td>28.69</td>\n",
       "      <td>115130000.0</td>\n",
       "      <td>0.0031</td>\n",
       "    </tr>\n",
       "    <tr>\n",
       "      <th>2017-01-04</th>\n",
       "      <td>29.00</td>\n",
       "      <td>28.96</td>\n",
       "      <td>29.13</td>\n",
       "      <td>28.94</td>\n",
       "      <td>84470000.0</td>\n",
       "      <td>-0.0014</td>\n",
       "    </tr>\n",
       "    <tr>\n",
       "      <th>2017-01-05</th>\n",
       "      <td>29.15</td>\n",
       "      <td>28.98</td>\n",
       "      <td>29.22</td>\n",
       "      <td>28.95</td>\n",
       "      <td>88770000.0</td>\n",
       "      <td>0.0052</td>\n",
       "    </tr>\n",
       "    <tr>\n",
       "      <th>2017-01-06</th>\n",
       "      <td>29.48</td>\n",
       "      <td>29.20</td>\n",
       "      <td>29.54</td>\n",
       "      <td>29.12</td>\n",
       "      <td>127010000.0</td>\n",
       "      <td>0.0113</td>\n",
       "    </tr>\n",
       "    <tr>\n",
       "      <th>2017-01-09</th>\n",
       "      <td>29.75</td>\n",
       "      <td>29.49</td>\n",
       "      <td>29.86</td>\n",
       "      <td>29.48</td>\n",
       "      <td>134250000.0</td>\n",
       "      <td>0.0092</td>\n",
       "    </tr>\n",
       "    <tr>\n",
       "      <th>...</th>\n",
       "      <td>...</td>\n",
       "      <td>...</td>\n",
       "      <td>...</td>\n",
       "      <td>...</td>\n",
       "      <td>...</td>\n",
       "      <td>...</td>\n",
       "    </tr>\n",
       "    <tr>\n",
       "      <th>2021-01-26</th>\n",
       "      <td>143.16</td>\n",
       "      <td>143.67</td>\n",
       "      <td>144.26</td>\n",
       "      <td>141.43</td>\n",
       "      <td>98390000.0</td>\n",
       "      <td>0.0017</td>\n",
       "    </tr>\n",
       "    <tr>\n",
       "      <th>2021-01-27</th>\n",
       "      <td>142.06</td>\n",
       "      <td>143.41</td>\n",
       "      <td>144.27</td>\n",
       "      <td>140.48</td>\n",
       "      <td>140840000.0</td>\n",
       "      <td>-0.0077</td>\n",
       "    </tr>\n",
       "    <tr>\n",
       "      <th>2021-01-28</th>\n",
       "      <td>137.09</td>\n",
       "      <td>139.65</td>\n",
       "      <td>141.98</td>\n",
       "      <td>136.82</td>\n",
       "      <td>142620000.0</td>\n",
       "      <td>-0.0350</td>\n",
       "    </tr>\n",
       "    <tr>\n",
       "      <th>2021-01-29</th>\n",
       "      <td>131.96</td>\n",
       "      <td>135.83</td>\n",
       "      <td>136.74</td>\n",
       "      <td>130.21</td>\n",
       "      <td>177520000.0</td>\n",
       "      <td>-0.0374</td>\n",
       "    </tr>\n",
       "    <tr>\n",
       "      <th>2021-02-01</th>\n",
       "      <td>134.14</td>\n",
       "      <td>133.63</td>\n",
       "      <td>135.37</td>\n",
       "      <td>131.06</td>\n",
       "      <td>106070000.0</td>\n",
       "      <td>0.0165</td>\n",
       "    </tr>\n",
       "  </tbody>\n",
       "</table>\n",
       "<p>1027 rows × 6 columns</p>\n",
       "</div>"
      ],
      "text/plain": [
       "             Close    Open    High     Low       Volume  Change\n",
       "Date                                                           \n",
       "2017-01-03   29.04   28.95   29.08   28.69  115130000.0  0.0031\n",
       "2017-01-04   29.00   28.96   29.13   28.94   84470000.0 -0.0014\n",
       "2017-01-05   29.15   28.98   29.22   28.95   88770000.0  0.0052\n",
       "2017-01-06   29.48   29.20   29.54   29.12  127010000.0  0.0113\n",
       "2017-01-09   29.75   29.49   29.86   29.48  134250000.0  0.0092\n",
       "...            ...     ...     ...     ...          ...     ...\n",
       "2021-01-26  143.16  143.67  144.26  141.43   98390000.0  0.0017\n",
       "2021-01-27  142.06  143.41  144.27  140.48  140840000.0 -0.0077\n",
       "2021-01-28  137.09  139.65  141.98  136.82  142620000.0 -0.0350\n",
       "2021-01-29  131.96  135.83  136.74  130.21  177520000.0 -0.0374\n",
       "2021-02-01  134.14  133.63  135.37  131.06  106070000.0  0.0165\n",
       "\n",
       "[1027 rows x 6 columns]"
      ]
     },
     "execution_count": 9,
     "metadata": {},
     "output_type": "execute_result"
    }
   ],
   "source": [
    "# Apple(AAPL), 애플\n",
    "# apple = fdr.DataReader('AAPL')\n",
    "apple = fdr.DataReader('AAPL', '2017')\n",
    "\n",
    "apple"
   ]
  },
  {
   "cell_type": "code",
   "execution_count": 19,
   "id": "visible-wales",
   "metadata": {},
   "outputs": [],
   "source": [
    "# 삼성전자(005930) 전체 (1996-11-05 ~ 현재)\n",
    "# ConnectionError: HTTPSConnectionPool(host='fchart.stock.naver.com', port=443): Max retries exceeded with url: /sise.nhn?timeframe=day&count=6000&requestType=0&symbol=005930 (Caused by NewConnectionError('<urllib3.connection.HTTPSConnection object at 0x00000123C5E18A90>: Failed to establish a new connection: [WinError 10060] 연결된 구성원으로부터 응답이 없어 연결하지 못했거나, 호스트로부터 응답이 없어 연결이 끊어졌습니다'))\n",
    "# samsung = fdr.DataReader('005930', '2019')\n",
    "\n",
    "# apple(AAPL) 전체 (1996-11-05 ~ 현재)\n",
    "stock = fdr.DataReader('AAPL')\n",
    "\n",
    "# 비트코인\n",
    "# btc = fdr.DataReader('BTC/KRW', '2019')\n",
    "\n",
    "# btc\n",
    "\n",
    "# SMIC\n",
    "# smic = fdr.DataReader('688981')\n",
    "\n",
    "# smic.tail()\n"
   ]
  },
  {
   "cell_type": "markdown",
   "id": "guilty-combat",
   "metadata": {},
   "source": [
    "매우 편리하게 삼성전자 주가 데이터를 DataFrame형식으로 받아옵니다.\n",
    "\n",
    "기본 오름차순 정렬이 된 데이터임을 알 수 있습니다.\n",
    "\n",
    "#### 컬럼 설명\n",
    "- Open: 시가\n",
    "- High: 고가\n",
    "- Low: 저가\n",
    "- Close: 종가\n",
    "- Volume: 거래량\n",
    "- Change: 대비"
   ]
  },
  {
   "cell_type": "code",
   "execution_count": 20,
   "id": "controlled-surgeon",
   "metadata": {},
   "outputs": [
    {
     "data": {
      "text/html": [
       "<div>\n",
       "<style scoped>\n",
       "    .dataframe tbody tr th:only-of-type {\n",
       "        vertical-align: middle;\n",
       "    }\n",
       "\n",
       "    .dataframe tbody tr th {\n",
       "        vertical-align: top;\n",
       "    }\n",
       "\n",
       "    .dataframe thead th {\n",
       "        text-align: right;\n",
       "    }\n",
       "</style>\n",
       "<table border=\"1\" class=\"dataframe\">\n",
       "  <thead>\n",
       "    <tr style=\"text-align: right;\">\n",
       "      <th></th>\n",
       "      <th>Close</th>\n",
       "      <th>Open</th>\n",
       "      <th>High</th>\n",
       "      <th>Low</th>\n",
       "      <th>Volume</th>\n",
       "      <th>Change</th>\n",
       "    </tr>\n",
       "    <tr>\n",
       "      <th>Date</th>\n",
       "      <th></th>\n",
       "      <th></th>\n",
       "      <th></th>\n",
       "      <th></th>\n",
       "      <th></th>\n",
       "      <th></th>\n",
       "    </tr>\n",
       "  </thead>\n",
       "  <tbody>\n",
       "    <tr>\n",
       "      <th>2021-01-26</th>\n",
       "      <td>143.16</td>\n",
       "      <td>143.67</td>\n",
       "      <td>144.26</td>\n",
       "      <td>141.43</td>\n",
       "      <td>98390000.0</td>\n",
       "      <td>0.0017</td>\n",
       "    </tr>\n",
       "    <tr>\n",
       "      <th>2021-01-27</th>\n",
       "      <td>142.06</td>\n",
       "      <td>143.41</td>\n",
       "      <td>144.27</td>\n",
       "      <td>140.48</td>\n",
       "      <td>140840000.0</td>\n",
       "      <td>-0.0077</td>\n",
       "    </tr>\n",
       "    <tr>\n",
       "      <th>2021-01-28</th>\n",
       "      <td>137.09</td>\n",
       "      <td>139.65</td>\n",
       "      <td>141.98</td>\n",
       "      <td>136.82</td>\n",
       "      <td>142620000.0</td>\n",
       "      <td>-0.0350</td>\n",
       "    </tr>\n",
       "    <tr>\n",
       "      <th>2021-01-29</th>\n",
       "      <td>131.96</td>\n",
       "      <td>135.83</td>\n",
       "      <td>136.74</td>\n",
       "      <td>130.21</td>\n",
       "      <td>177520000.0</td>\n",
       "      <td>-0.0374</td>\n",
       "    </tr>\n",
       "    <tr>\n",
       "      <th>2021-02-01</th>\n",
       "      <td>134.14</td>\n",
       "      <td>133.63</td>\n",
       "      <td>135.37</td>\n",
       "      <td>131.06</td>\n",
       "      <td>106240000.0</td>\n",
       "      <td>0.0165</td>\n",
       "    </tr>\n",
       "  </tbody>\n",
       "</table>\n",
       "</div>"
      ],
      "text/plain": [
       "             Close    Open    High     Low       Volume  Change\n",
       "Date                                                           \n",
       "2021-01-26  143.16  143.67  144.26  141.43   98390000.0  0.0017\n",
       "2021-01-27  142.06  143.41  144.27  140.48  140840000.0 -0.0077\n",
       "2021-01-28  137.09  139.65  141.98  136.82  142620000.0 -0.0350\n",
       "2021-01-29  131.96  135.83  136.74  130.21  177520000.0 -0.0374\n",
       "2021-02-01  134.14  133.63  135.37  131.06  106240000.0  0.0165"
      ]
     },
     "execution_count": 20,
     "metadata": {},
     "output_type": "execute_result"
    }
   ],
   "source": [
    "stock.tail()"
   ]
  },
  {
   "cell_type": "code",
   "execution_count": 21,
   "id": "affected-replacement",
   "metadata": {},
   "outputs": [],
   "source": [
    "stock['Year'] = stock.index.year\n",
    "stock['Month'] = stock.index.month\n",
    "stock['Day'] = stock.index.day"
   ]
  },
  {
   "cell_type": "code",
   "execution_count": 22,
   "id": "honest-exposure",
   "metadata": {},
   "outputs": [
    {
     "data": {
      "text/html": [
       "<div>\n",
       "<style scoped>\n",
       "    .dataframe tbody tr th:only-of-type {\n",
       "        vertical-align: middle;\n",
       "    }\n",
       "\n",
       "    .dataframe tbody tr th {\n",
       "        vertical-align: top;\n",
       "    }\n",
       "\n",
       "    .dataframe thead th {\n",
       "        text-align: right;\n",
       "    }\n",
       "</style>\n",
       "<table border=\"1\" class=\"dataframe\">\n",
       "  <thead>\n",
       "    <tr style=\"text-align: right;\">\n",
       "      <th></th>\n",
       "      <th>Close</th>\n",
       "      <th>Open</th>\n",
       "      <th>High</th>\n",
       "      <th>Low</th>\n",
       "      <th>Volume</th>\n",
       "      <th>Change</th>\n",
       "      <th>Year</th>\n",
       "      <th>Month</th>\n",
       "      <th>Day</th>\n",
       "    </tr>\n",
       "    <tr>\n",
       "      <th>Date</th>\n",
       "      <th></th>\n",
       "      <th></th>\n",
       "      <th></th>\n",
       "      <th></th>\n",
       "      <th></th>\n",
       "      <th></th>\n",
       "      <th></th>\n",
       "      <th></th>\n",
       "      <th></th>\n",
       "    </tr>\n",
       "  </thead>\n",
       "  <tbody>\n",
       "    <tr>\n",
       "      <th>1980-12-12</th>\n",
       "      <td>0.13</td>\n",
       "      <td>0.13</td>\n",
       "      <td>0.13</td>\n",
       "      <td>0.13</td>\n",
       "      <td>469030000.0</td>\n",
       "      <td>-0.9988</td>\n",
       "      <td>1980</td>\n",
       "      <td>12</td>\n",
       "      <td>12</td>\n",
       "    </tr>\n",
       "    <tr>\n",
       "      <th>1980-12-15</th>\n",
       "      <td>0.12</td>\n",
       "      <td>0.12</td>\n",
       "      <td>0.12</td>\n",
       "      <td>0.12</td>\n",
       "      <td>175880000.0</td>\n",
       "      <td>-0.0769</td>\n",
       "      <td>1980</td>\n",
       "      <td>12</td>\n",
       "      <td>15</td>\n",
       "    </tr>\n",
       "    <tr>\n",
       "      <th>1980-12-16</th>\n",
       "      <td>0.11</td>\n",
       "      <td>0.11</td>\n",
       "      <td>0.11</td>\n",
       "      <td>0.11</td>\n",
       "      <td>105730000.0</td>\n",
       "      <td>-0.0833</td>\n",
       "      <td>1980</td>\n",
       "      <td>12</td>\n",
       "      <td>16</td>\n",
       "    </tr>\n",
       "    <tr>\n",
       "      <th>1980-12-17</th>\n",
       "      <td>0.12</td>\n",
       "      <td>0.12</td>\n",
       "      <td>0.12</td>\n",
       "      <td>0.12</td>\n",
       "      <td>86440000.0</td>\n",
       "      <td>0.0909</td>\n",
       "      <td>1980</td>\n",
       "      <td>12</td>\n",
       "      <td>17</td>\n",
       "    </tr>\n",
       "    <tr>\n",
       "      <th>1980-12-18</th>\n",
       "      <td>0.12</td>\n",
       "      <td>0.12</td>\n",
       "      <td>0.12</td>\n",
       "      <td>0.12</td>\n",
       "      <td>73450000.0</td>\n",
       "      <td>0.0000</td>\n",
       "      <td>1980</td>\n",
       "      <td>12</td>\n",
       "      <td>18</td>\n",
       "    </tr>\n",
       "  </tbody>\n",
       "</table>\n",
       "</div>"
      ],
      "text/plain": [
       "            Close  Open  High   Low       Volume  Change  Year  Month  Day\n",
       "Date                                                                      \n",
       "1980-12-12   0.13  0.13  0.13  0.13  469030000.0 -0.9988  1980     12   12\n",
       "1980-12-15   0.12  0.12  0.12  0.12  175880000.0 -0.0769  1980     12   15\n",
       "1980-12-16   0.11  0.11  0.11  0.11  105730000.0 -0.0833  1980     12   16\n",
       "1980-12-17   0.12  0.12  0.12  0.12   86440000.0  0.0909  1980     12   17\n",
       "1980-12-18   0.12  0.12  0.12  0.12   73450000.0  0.0000  1980     12   18"
      ]
     },
     "execution_count": 22,
     "metadata": {},
     "output_type": "execute_result"
    }
   ],
   "source": [
    "stock.head()"
   ]
  },
  {
   "cell_type": "code",
   "execution_count": 25,
   "id": "incomplete-woman",
   "metadata": {},
   "outputs": [
    {
     "data": {
      "text/plain": [
       "Text(0, 0.5, 'price')"
      ]
     },
     "execution_count": 25,
     "metadata": {},
     "output_type": "execute_result"
    },
    {
     "data": {
      "image/png": "[encoded data removed]",
      "text/plain": [
       "<Figure size 1152x648 with 1 Axes>"
      ]
     },
     "metadata": {
      "needs_background": "light"
     },
     "output_type": "display_data"
    }
   ],
   "source": [
    "plt.figure(figsize=(16, 9))\n",
    "sns.lineplot(y=stock['Close'], x=stock.index)\n",
    "plt.xlabel('time')\n",
    "plt.ylabel('price')"
   ]
  },
  {
   "cell_type": "code",
   "execution_count": 26,
   "id": "hearing-classics",
   "metadata": {},
   "outputs": [
    {
     "data": {
      "image/png": "[encoded data removed]",
      "text/plain": [
       "<Figure size 1152x648 with 4 Axes>"
      ]
     },
     "metadata": {
      "needs_background": "light"
     },
     "output_type": "display_data"
    }
   ],
   "source": [
    "time_steps = [['1990', '2000'], \n",
    "              ['2000', '2010'], \n",
    "              ['2010', '2015'], \n",
    "              ['2015', '2020']]\n",
    "\n",
    "fig, axes = plt.subplots(2, 2)\n",
    "fig.set_size_inches(16, 9)\n",
    "for i in range(4):\n",
    "    ax = axes[i//2, i%2]\n",
    "    df = stock.loc[(stock.index > time_steps[i][0]) & (stock.index < time_steps[i][1])]\n",
    "    sns.lineplot(y=df['Close'], x=df.index, ax=ax)\n",
    "    ax.set_title(f'{time_steps[i][0]}~{time_steps[i][1]}')\n",
    "    ax.set_xlabel('time')\n",
    "    ax.set_ylabel('price')\n",
    "plt.tight_layout()\n",
    "plt.show()"
   ]
  },
  {
   "cell_type": "markdown",
   "id": "accomplished-warning",
   "metadata": {},
   "source": [
    "## 데이터 전처리\n",
    "주가 데이터에 대하여 딥러닝 모델이 더 잘 학습할 수 있도록 정규화(Normalization)를 해주도록 하겠습니다.\n",
    "\n",
    "표준화 (Standardization)와 정규화(Normalization)에 대한 내용은 아래 링크에서 더 자세히 다루니, 참고해 보시기 바랍니다.\n",
    "\n",
    "- [데이터 전처리에 관하여](https://teddylee777.github.io/scikit-learn/scikit-learn-preprocessing)"
   ]
  },
  {
   "cell_type": "code",
   "execution_count": 27,
   "id": "descending-agriculture",
   "metadata": {},
   "outputs": [
    {
     "data": {
      "text/plain": [
       "array([[5.57025484e-04, 5.51800248e-04, 5.65850898e-04, 5.59010551e-04,\n",
       "        6.29512116e-02],\n",
       "       [4.87397298e-04, 4.82825217e-04, 4.95119536e-04, 4.89134232e-04,\n",
       "        2.34889165e-02],\n",
       "       [4.17769113e-04, 4.13850186e-04, 4.24388174e-04, 4.19257913e-04,\n",
       "        1.40456963e-02],\n",
       "       ...,\n",
       "       [9.72009469e-01, 9.78962616e-01, 9.67392842e-01, 9.57585074e-01,\n",
       "        1.90116321e-02],\n",
       "       [9.45411503e-01, 9.42819699e-01, 9.20639412e-01, 9.21738523e-01,\n",
       "        2.37096846e-02],\n",
       "       [9.30093302e-01, 9.33370120e-01, 9.26651577e-01, 9.36971560e-01,\n",
       "        1.41143498e-02]])"
      ]
     },
     "execution_count": 27,
     "metadata": {},
     "output_type": "execute_result"
    }
   ],
   "source": [
    "from sklearn.preprocessing import MinMaxScaler\n",
    "\n",
    "scaler = MinMaxScaler()\n",
    "# 스케일을 적용할 column을 정의합니다.\n",
    "scale_cols = ['Open', 'High', 'Low', 'Close', 'Volume']\n",
    "# 스케일 후 columns\n",
    "scaled = scaler.fit_transform(stock[scale_cols])\n",
    "scaled"
   ]
  },
  {
   "cell_type": "markdown",
   "id": "blank-niagara",
   "metadata": {},
   "source": [
    "스케일이 완료된 column으로 새로운 데이터프레임을 생성합니다.\n",
    "\n",
    "시간 순으로 정렬되어 있으며, datetime index는 제외했습니다.\n",
    "\n",
    "6,000개의 row, 5개 column으로 이루어진 데이터셋이 DataFrame으로 정리되었습니다."
   ]
  },
  {
   "cell_type": "code",
   "execution_count": 28,
   "id": "endless-miller",
   "metadata": {},
   "outputs": [],
   "source": [
    "df = pd.DataFrame(scaled, columns=scale_cols)"
   ]
  },
  {
   "cell_type": "markdown",
   "id": "premium-acquisition",
   "metadata": {},
   "source": [
    "## train / test 분할"
   ]
  },
  {
   "cell_type": "code",
   "execution_count": 29,
   "id": "sustained-emperor",
   "metadata": {},
   "outputs": [],
   "source": [
    "from sklearn.model_selection import train_test_split\n",
    "x_train, x_test, y_train, y_test = train_test_split(df.drop('Close', 1), df['Close'], test_size=0.2, random_state=0, shuffle=False)"
   ]
  },
  {
   "cell_type": "code",
   "execution_count": 30,
   "id": "overall-punishment",
   "metadata": {},
   "outputs": [
    {
     "data": {
      "text/plain": [
       "((8096, 4), (8096,))"
      ]
     },
     "execution_count": 30,
     "metadata": {},
     "output_type": "execute_result"
    }
   ],
   "source": [
    "x_train.shape, y_train.shape"
   ]
  },
  {
   "cell_type": "code",
   "execution_count": 31,
   "id": "after-manitoba",
   "metadata": {},
   "outputs": [
    {
     "data": {
      "text/plain": [
       "((2024, 4), (2024,))"
      ]
     },
     "execution_count": 31,
     "metadata": {},
     "output_type": "execute_result"
    }
   ],
   "source": [
    "x_test.shape, y_test.shape"
   ]
  },
  {
   "cell_type": "code",
   "execution_count": 32,
   "id": "dated-shore",
   "metadata": {},
   "outputs": [
    {
     "data": {
      "text/html": [
       "<div>\n",
       "<style scoped>\n",
       "    .dataframe tbody tr th:only-of-type {\n",
       "        vertical-align: middle;\n",
       "    }\n",
       "\n",
       "    .dataframe tbody tr th {\n",
       "        vertical-align: top;\n",
       "    }\n",
       "\n",
       "    .dataframe thead th {\n",
       "        text-align: right;\n",
       "    }\n",
       "</style>\n",
       "<table border=\"1\" class=\"dataframe\">\n",
       "  <thead>\n",
       "    <tr style=\"text-align: right;\">\n",
       "      <th></th>\n",
       "      <th>Open</th>\n",
       "      <th>High</th>\n",
       "      <th>Low</th>\n",
       "      <th>Volume</th>\n",
       "    </tr>\n",
       "  </thead>\n",
       "  <tbody>\n",
       "    <tr>\n",
       "      <th>0</th>\n",
       "      <td>0.000557</td>\n",
       "      <td>0.000552</td>\n",
       "      <td>0.000566</td>\n",
       "      <td>0.062951</td>\n",
       "    </tr>\n",
       "    <tr>\n",
       "      <th>1</th>\n",
       "      <td>0.000487</td>\n",
       "      <td>0.000483</td>\n",
       "      <td>0.000495</td>\n",
       "      <td>0.023489</td>\n",
       "    </tr>\n",
       "    <tr>\n",
       "      <th>2</th>\n",
       "      <td>0.000418</td>\n",
       "      <td>0.000414</td>\n",
       "      <td>0.000424</td>\n",
       "      <td>0.014046</td>\n",
       "    </tr>\n",
       "    <tr>\n",
       "      <th>3</th>\n",
       "      <td>0.000487</td>\n",
       "      <td>0.000483</td>\n",
       "      <td>0.000495</td>\n",
       "      <td>0.011449</td>\n",
       "    </tr>\n",
       "    <tr>\n",
       "      <th>4</th>\n",
       "      <td>0.000487</td>\n",
       "      <td>0.000483</td>\n",
       "      <td>0.000495</td>\n",
       "      <td>0.009700</td>\n",
       "    </tr>\n",
       "    <tr>\n",
       "      <th>...</th>\n",
       "      <td>...</td>\n",
       "      <td>...</td>\n",
       "      <td>...</td>\n",
       "      <td>...</td>\n",
       "    </tr>\n",
       "    <tr>\n",
       "      <th>8091</th>\n",
       "      <td>0.131110</td>\n",
       "      <td>0.129880</td>\n",
       "      <td>0.129863</td>\n",
       "      <td>0.080735</td>\n",
       "    </tr>\n",
       "    <tr>\n",
       "      <th>8092</th>\n",
       "      <td>0.129230</td>\n",
       "      <td>0.129052</td>\n",
       "      <td>0.130782</td>\n",
       "      <td>0.047030</td>\n",
       "    </tr>\n",
       "    <tr>\n",
       "      <th>8093</th>\n",
       "      <td>0.124634</td>\n",
       "      <td>0.124638</td>\n",
       "      <td>0.125548</td>\n",
       "      <td>0.098644</td>\n",
       "    </tr>\n",
       "    <tr>\n",
       "      <th>8094</th>\n",
       "      <td>0.123590</td>\n",
       "      <td>0.122569</td>\n",
       "      <td>0.121729</td>\n",
       "      <td>0.117839</td>\n",
       "    </tr>\n",
       "    <tr>\n",
       "      <th>8095</th>\n",
       "      <td>0.122685</td>\n",
       "      <td>0.125121</td>\n",
       "      <td>0.124063</td>\n",
       "      <td>0.092805</td>\n",
       "    </tr>\n",
       "  </tbody>\n",
       "</table>\n",
       "<p>8096 rows × 4 columns</p>\n",
       "</div>"
      ],
      "text/plain": [
       "          Open      High       Low    Volume\n",
       "0     0.000557  0.000552  0.000566  0.062951\n",
       "1     0.000487  0.000483  0.000495  0.023489\n",
       "2     0.000418  0.000414  0.000424  0.014046\n",
       "3     0.000487  0.000483  0.000495  0.011449\n",
       "4     0.000487  0.000483  0.000495  0.009700\n",
       "...        ...       ...       ...       ...\n",
       "8091  0.131110  0.129880  0.129863  0.080735\n",
       "8092  0.129230  0.129052  0.130782  0.047030\n",
       "8093  0.124634  0.124638  0.125548  0.098644\n",
       "8094  0.123590  0.122569  0.121729  0.117839\n",
       "8095  0.122685  0.125121  0.124063  0.092805\n",
       "\n",
       "[8096 rows x 4 columns]"
      ]
     },
     "execution_count": 32,
     "metadata": {},
     "output_type": "execute_result"
    }
   ],
   "source": [
    "x_train"
   ]
  },
  {
   "cell_type": "markdown",
   "id": "happy-bahrain",
   "metadata": {},
   "source": [
    "## TensroFlow Dataset을 활용한 시퀀스 데이터셋 구성"
   ]
  },
  {
   "cell_type": "code",
   "execution_count": 34,
   "id": "fourth-offer",
   "metadata": {},
   "outputs": [],
   "source": [
    "import tensorflow as tf"
   ]
  },
  {
   "cell_type": "code",
   "execution_count": 35,
   "id": "amino-camcorder",
   "metadata": {},
   "outputs": [],
   "source": [
    "def windowed_dataset(series, window_size, batch_size, shuffle):\n",
    "    series = tf.expand_dims(series, axis=-1)\n",
    "    ds = tf.data.Dataset.from_tensor_slices(series)\n",
    "    ds = ds.window(window_size + 1, shift=1, drop_remainder=True)\n",
    "    ds = ds.flat_map(lambda w: w.batch(window_size + 1))\n",
    "    if shuffle:\n",
    "        ds = ds.shuffle(1000)\n",
    "    ds = ds.map(lambda w: (w[:-1], w[-1]))\n",
    "    return ds.batch(batch_size).prefetch(1)"
   ]
  },
  {
   "cell_type": "markdown",
   "id": "positive-memory",
   "metadata": {},
   "source": [
    "Hyperparameter를 정의합니다."
   ]
  },
  {
   "cell_type": "code",
   "execution_count": 36,
   "id": "designed-seeking",
   "metadata": {},
   "outputs": [],
   "source": [
    "WINDOW_SIZE=20\n",
    "BATCH_SIZE=32"
   ]
  },
  {
   "cell_type": "code",
   "execution_count": 37,
   "id": "assured-contract",
   "metadata": {},
   "outputs": [],
   "source": [
    "# trian_data는 학습용 데이터셋, test_data는 검증용 데이터셋 입니다.\n",
    "train_data = windowed_dataset(y_train, WINDOW_SIZE, BATCH_SIZE, True)\n",
    "test_data = windowed_dataset(y_test, WINDOW_SIZE, BATCH_SIZE, False)"
   ]
  },
  {
   "cell_type": "code",
   "execution_count": 38,
   "id": "veterinary-expression",
   "metadata": {},
   "outputs": [
    {
     "name": "stdout",
     "output_type": "stream",
     "text": [
      "데이터셋(X) 구성(batch_size, window_size, feature갯수): (32, 20, 1)\n",
      "데이터셋(Y) 구성(batch_size, window_size, feature갯수): (32, 1)\n"
     ]
    }
   ],
   "source": [
    "# 아래의 코드로 데이터셋의 구성을 확인해 볼 수 있습니다.\n",
    "# X: (batch_size, window_size, feature)\n",
    "# Y: (batch_size, feature)\n",
    "for data in train_data.take(1):\n",
    "    print(f'데이터셋(X) 구성(batch_size, window_size, feature갯수): {data[0].shape}')\n",
    "    print(f'데이터셋(Y) 구성(batch_size, window_size, feature갯수): {data[1].shape}')"
   ]
  },
  {
   "cell_type": "markdown",
   "id": "contained-possession",
   "metadata": {},
   "source": [
    "## 모델"
   ]
  },
  {
   "cell_type": "code",
   "execution_count": 39,
   "id": "atomic-albany",
   "metadata": {},
   "outputs": [],
   "source": [
    "from tensorflow.keras.models import Sequential\n",
    "from tensorflow.keras.layers import Dense, LSTM, Conv1D, Lambda\n",
    "from tensorflow.keras.losses import Huber\n",
    "from tensorflow.keras.optimizers import Adam\n",
    "from tensorflow.keras.callbacks import EarlyStopping, ModelCheckpoint\n",
    "\n",
    "\n",
    "model = Sequential([\n",
    "    # 1차원 feature map 생성\n",
    "    Conv1D(filters=32, kernel_size=5,\n",
    "           padding=\"causal\",\n",
    "           activation=\"relu\",\n",
    "           input_shape=[WINDOW_SIZE, 1]),\n",
    "    # LSTM\n",
    "    LSTM(16, activation='tanh'),\n",
    "    Dense(16, activation=\"relu\"),\n",
    "    Dense(1),\n",
    "])"
   ]
  },
  {
   "cell_type": "code",
   "execution_count": 40,
   "id": "voluntary-nightlife",
   "metadata": {},
   "outputs": [],
   "source": [
    "# Sequence 학습에 비교적 좋은 퍼포먼스를 내는 Huber()를 사용합니다.\n",
    "loss = Huber()\n",
    "optimizer = Adam(0.0005)\n",
    "model.compile(loss=Huber(), optimizer=optimizer, metrics=['mse'])"
   ]
  },
  {
   "cell_type": "code",
   "execution_count": 41,
   "id": "featured-hydrogen",
   "metadata": {},
   "outputs": [],
   "source": [
    "# earlystopping은 10번 epoch통안 val_loss 개선이 없다면 학습을 멈춥니다.\n",
    "earlystopping = EarlyStopping(monitor='val_loss', patience=10)\n",
    "# val_loss 기준 체크포인터도 생성합니다.\n",
    "filename = os.path.join('tmp', 'ckeckpointer.ckpt')\n",
    "checkpoint = ModelCheckpoint(filename, \n",
    "                             save_weights_only=True, \n",
    "                             save_best_only=True, \n",
    "                             monitor='val_loss', \n",
    "                             verbose=1)"
   ]
  },
  {
   "cell_type": "code",
   "execution_count": 42,
   "id": "relative-fabric",
   "metadata": {},
   "outputs": [
    {
     "name": "stdout",
     "output_type": "stream",
     "text": [
      "Epoch 1/50\n",
      "253/253 [==============================] - 6s 13ms/step - loss: 3.4655e-06 - mse: 6.9310e-06 - val_loss: 0.0133 - val_mse: 0.0267\n",
      "\n",
      "Epoch 00001: val_loss improved from inf to 0.01333, saving model to tmp\\ckeckpointer.ckpt\n",
      "Epoch 2/50\n",
      "253/253 [==============================] - 2s 7ms/step - loss: 1.7736e-06 - mse: 3.5472e-06 - val_loss: 0.0138 - val_mse: 0.0275\n",
      "\n",
      "Epoch 00002: val_loss did not improve from 0.01333\n",
      "Epoch 3/50\n",
      "253/253 [==============================] - 2s 7ms/step - loss: 3.6669e-07 - mse: 7.3339e-07 - val_loss: 0.0138 - val_mse: 0.0276\n",
      "\n",
      "Epoch 00003: val_loss did not improve from 0.01333\n",
      "Epoch 4/50\n",
      "253/253 [==============================] - 2s 7ms/step - loss: 6.3608e-07 - mse: 1.2722e-06 - val_loss: 0.0138 - val_mse: 0.0277\n",
      "\n",
      "Epoch 00004: val_loss did not improve from 0.01333\n",
      "Epoch 5/50\n",
      "253/253 [==============================] - 2s 8ms/step - loss: 3.1293e-07 - mse: 6.2585e-07 - val_loss: 0.0136 - val_mse: 0.0272\n",
      "\n",
      "Epoch 00005: val_loss did not improve from 0.01333\n",
      "Epoch 6/50\n",
      "253/253 [==============================] - 2s 8ms/step - loss: 5.1687e-07 - mse: 1.0337e-06 - val_loss: 0.0137 - val_mse: 0.0275\n",
      "\n",
      "Epoch 00006: val_loss did not improve from 0.01333\n",
      "Epoch 7/50\n",
      "253/253 [==============================] - 2s 7ms/step - loss: 1.8674e-07 - mse: 3.7348e-07 - val_loss: 0.0139 - val_mse: 0.0277\n",
      "\n",
      "Epoch 00007: val_loss did not improve from 0.01333\n",
      "Epoch 8/50\n",
      "253/253 [==============================] - 2s 7ms/step - loss: 2.8773e-07 - mse: 5.7547e-07 - val_loss: 0.0136 - val_mse: 0.0272\n",
      "\n",
      "Epoch 00008: val_loss did not improve from 0.01333\n",
      "Epoch 9/50\n",
      "253/253 [==============================] - 2s 7ms/step - loss: 3.2356e-07 - mse: 6.4711e-07 - val_loss: 0.0136 - val_mse: 0.0273\n",
      "\n",
      "Epoch 00009: val_loss did not improve from 0.01333\n",
      "Epoch 10/50\n",
      "253/253 [==============================] - 2s 7ms/step - loss: 4.0656e-07 - mse: 8.1313e-07 - val_loss: 0.0136 - val_mse: 0.0273\n",
      "\n",
      "Epoch 00010: val_loss did not improve from 0.01333\n",
      "Epoch 11/50\n",
      "253/253 [==============================] - 2s 7ms/step - loss: 7.8895e-07 - mse: 1.5779e-06 - val_loss: 0.0136 - val_mse: 0.0273\n",
      "\n",
      "Epoch 00011: val_loss did not improve from 0.01333\n"
     ]
    }
   ],
   "source": [
    "history = model.fit(train_data, \n",
    "                    validation_data=(test_data), \n",
    "                    epochs=50, \n",
    "                    callbacks=[checkpoint, earlystopping])"
   ]
  },
  {
   "cell_type": "markdown",
   "id": "undefined-dress",
   "metadata": {},
   "source": [
    "저장한 ModelCheckpoint 를 로드합니다."
   ]
  },
  {
   "cell_type": "code",
   "execution_count": 43,
   "id": "piano-farmer",
   "metadata": {},
   "outputs": [
    {
     "data": {
      "text/plain": [
       "<tensorflow.python.training.tracking.util.CheckpointLoadStatus at 0x123d4c50c70>"
      ]
     },
     "execution_count": 43,
     "metadata": {},
     "output_type": "execute_result"
    }
   ],
   "source": [
    "model.load_weights(filename)"
   ]
  },
  {
   "cell_type": "markdown",
   "id": "continuous-worcester",
   "metadata": {},
   "source": [
    "test_data를 활용하여 예측을 진행합니다."
   ]
  },
  {
   "cell_type": "code",
   "execution_count": 45,
   "id": "parliamentary-mandate",
   "metadata": {},
   "outputs": [],
   "source": [
    "pred = model.predict(test_data)"
   ]
  },
  {
   "cell_type": "code",
   "execution_count": 46,
   "id": "precise-compression",
   "metadata": {},
   "outputs": [
    {
     "data": {
      "text/plain": [
       "(2004, 1)"
      ]
     },
     "execution_count": 46,
     "metadata": {},
     "output_type": "execute_result"
    }
   ],
   "source": [
    "pred.shape"
   ]
  },
  {
   "cell_type": "markdown",
   "id": "minor-function",
   "metadata": {},
   "source": [
    "## 예측 데이터 시각화\n",
    "아래 시각화 코드중 y_test 데이터에 [20:]으로 슬라이싱을 한 이유는\n",
    "\n",
    "예측 데이터에서 20일치의 데이터로 21일치를 예측해야하기 때문에 test_data로 예측 시 앞의 20일은 예측하지 않습니다.\n",
    "\n",
    "따라서, 20번 째 index와 비교하면 더욱 정확합니다."
   ]
  },
  {
   "cell_type": "code",
   "execution_count": 47,
   "id": "aerial-florence",
   "metadata": {},
   "outputs": [
    {
     "data": {
      "image/png": "[encoded data removed]",
      "text/plain": [
       "<Figure size 864x648 with 1 Axes>"
      ]
     },
     "metadata": {
      "needs_background": "light"
     },
     "output_type": "display_data"
    }
   ],
   "source": [
    "plt.figure(figsize=(12, 9))\n",
    "plt.plot(np.asarray(y_test)[20:], label='actual')\n",
    "plt.plot(pred, label='prediction')\n",
    "plt.legend()\n",
    "plt.show()"
   ]
  },
  {
   "cell_type": "code",
   "execution_count": null,
   "id": "solar-integrity",
   "metadata": {},
   "outputs": [],
   "source": []
  }
 ],
 "metadata": {
  "kernelspec": {
   "display_name": "MAI",
   "language": "python",
   "name": "mai"
  },
  "language_info": {
   "codemirror_mode": {
    "name": "ipython",
    "version": 3
   },
   "file_extension": ".py",
   "mimetype": "text/x-python",
   "name": "python",
   "nbconvert_exporter": "python",
   "pygments_lexer": "ipython3",
   "version": "3.8.5"
  }
 },
 "nbformat": 4,
 "nbformat_minor": 5
}
