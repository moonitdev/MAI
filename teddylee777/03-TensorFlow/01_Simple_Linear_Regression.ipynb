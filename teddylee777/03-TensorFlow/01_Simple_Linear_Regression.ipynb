{
 "cells": [
  {
   "cell_type": "markdown",
   "id": "digital-geology",
   "metadata": {},
   "source": [
    "- [teddylee777 01_Simple_Linear_Regression.ipynb](https://github.com/teddylee777/machine-learning/blob/master/03-TensorFlow/01_Simple_Linear_Regression.ipynb)\n",
    "\n",
    "- [ML lab 03 - Linear Regression 의 cost 최소화의 TensorFlow 구현 (new)](https://www.youtube.com/watch?v=Y0EF9VqRuEA&index=7&list=PLlMkM4tgfjnLSOjrEJN31gZATbcj_MpUm)"
   ]
  },
  {
   "cell_type": "code",
   "execution_count": 3,
   "id": "equal-thompson",
   "metadata": {},
   "outputs": [],
   "source": [
    "import tensorflow as tf"
   ]
  },
  {
   "cell_type": "code",
   "execution_count": 4,
   "id": "temporal-integer",
   "metadata": {},
   "outputs": [],
   "source": [
    "X_data = [1, 2, 3]\n",
    "Y_data = [1, 2, 3]"
   ]
  },
  {
   "cell_type": "code",
   "execution_count": 7,
   "id": "attractive-marketplace",
   "metadata": {},
   "outputs": [
    {
     "ename": "AttributeError",
     "evalue": "module 'tensorflow' has no attribute 'random_normal'",
     "output_type": "error",
     "traceback": [
      "\u001b[1;31m---------------------------------------------------------------------------\u001b[0m",
      "\u001b[1;31mAttributeError\u001b[0m                            Traceback (most recent call last)",
      "\u001b[1;32m<ipython-input-7-30abeb619056>\u001b[0m in \u001b[0;36m<module>\u001b[1;34m\u001b[0m\n\u001b[0;32m      1\u001b[0m \u001b[1;31m# BUG: tensorflow 2에서는 random_* 함수들이 random.*로 변경되었다.\u001b[0m\u001b[1;33m\u001b[0m\u001b[1;33m\u001b[0m\u001b[1;33m\u001b[0m\u001b[0m\n\u001b[1;32m----> 2\u001b[1;33m \u001b[0mW\u001b[0m \u001b[1;33m=\u001b[0m \u001b[0mtf\u001b[0m\u001b[1;33m.\u001b[0m\u001b[0mVariable\u001b[0m\u001b[1;33m(\u001b[0m\u001b[0mtf\u001b[0m\u001b[1;33m.\u001b[0m\u001b[0mrandom_normal\u001b[0m\u001b[1;33m(\u001b[0m\u001b[1;33m[\u001b[0m\u001b[1;36m1\u001b[0m\u001b[1;33m]\u001b[0m\u001b[1;33m)\u001b[0m\u001b[1;33m,\u001b[0m \u001b[0mname\u001b[0m\u001b[1;33m=\u001b[0m\u001b[1;34m'weight'\u001b[0m\u001b[1;33m)\u001b[0m\u001b[1;33m\u001b[0m\u001b[1;33m\u001b[0m\u001b[0m\n\u001b[0m\u001b[0;32m      3\u001b[0m \u001b[1;33m\u001b[0m\u001b[0m\n\u001b[0;32m      4\u001b[0m \u001b[1;31m# BUG: AttributeError: module 'tensorflow' has no attribute 'placeholder'\u001b[0m\u001b[1;33m\u001b[0m\u001b[1;33m\u001b[0m\u001b[1;33m\u001b[0m\u001b[0m\n\u001b[0;32m      5\u001b[0m \u001b[0mX\u001b[0m \u001b[1;33m=\u001b[0m \u001b[0mtf\u001b[0m\u001b[1;33m.\u001b[0m\u001b[0mplaceholder\u001b[0m\u001b[1;33m(\u001b[0m\u001b[0mtf\u001b[0m\u001b[1;33m.\u001b[0m\u001b[0mfloat32\u001b[0m\u001b[1;33m)\u001b[0m\u001b[1;33m\u001b[0m\u001b[1;33m\u001b[0m\u001b[0m\n",
      "\u001b[1;31mAttributeError\u001b[0m: module 'tensorflow' has no attribute 'random_normal'"
     ]
    }
   ],
   "source": [
    "# BUG: module 'tensorflow' has no attribute 'random_normal'\n",
    "# SOL: tensorflow 1: random_* 함수 -> tensorflow 2: random.*들이 로 변경됨\n",
    "W = tf.Variable(tf.random_normal([1]), name='weight')\n",
    "\n",
    "# BUG: AttributeError: module 'tensorflow' has no attribute 'placeholder'\n",
    "# SOL: https://stackoverflow.com/questions/59625668/what-is-the-replacement-of-placeholder-in-tensorflow-2-0\n",
    "#      https://eclipse360.tistory.com/40\n",
    "\n",
    "X = tf.placeholder(tf.float32)\n",
    "Y = tf.placeholder(tf.float32)\n",
    "\n"
   ]
  },
  {
   "cell_type": "code",
   "execution_count": null,
   "id": "aerial-winter",
   "metadata": {},
   "outputs": [],
   "source": [
    "# \n",
    "@tf.function\n",
    "def multiplier(W, X):\n",
    "  return W*X\n",
    "\n",
    "Y_data = multiplier(W, X_data)"
   ]
  },
  {
   "cell_type": "code",
   "execution_count": null,
   "id": "focused-underground",
   "metadata": {},
   "outputs": [],
   "source": [
    "- [텐서플로 1 코드를 텐서플로 2로 바꾸기](https://www.tensorflow.org/guide/migrate?hl=ko)"
   ]
  },
  {
   "cell_type": "code",
   "execution_count": null,
   "id": "british-burns",
   "metadata": {},
   "outputs": [],
   "source": [
    "W = tf.Variable(tf.ones(shape=(2,2)), name=\"W\")\n",
    "b = tf.Variable(tf.zeros(shape=(2)), name=\"b\")\n",
    "\n",
    "@tf.function\n",
    "def forward(x):\n",
    "  return W * x + b\n",
    "\n",
    "out_a = forward([1,0])\n",
    "print(out_a)\n",
    "\n",
    "out_b = forward([0,1])\n",
    "\n",
    "regularizer = tf.keras.regularizers.l2(0.04)\n",
    "reg_loss = regularizer(W)"
   ]
  }
 ],
 "metadata": {
  "kernelspec": {
   "display_name": "MAI",
   "language": "python",
   "name": "mai"
  },
  "language_info": {
   "codemirror_mode": {
    "name": "ipython",
    "version": 3
   },
   "file_extension": ".py",
   "mimetype": "text/x-python",
   "name": "python",
   "nbconvert_exporter": "python",
   "pygments_lexer": "ipython3",
   "version": "3.8.5"
  }
 },
 "nbformat": 4,
 "nbformat_minor": 5
}
