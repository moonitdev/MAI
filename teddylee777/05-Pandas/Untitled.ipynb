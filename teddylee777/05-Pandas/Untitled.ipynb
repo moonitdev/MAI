{
 "cells": [
  {
   "cell_type": "code",
   "execution_count": null,
   "id": "mighty-arlington",
   "metadata": {},
   "outputs": [],
   "source": [
    "# https://www.tensorflow.org/guide/migrate?hl=ko\n",
    "\n",
    "# tensorflow 1\n",
    "in_a = tf.placeholder(dtype=tf.float32, shape=(2))\n",
    "in_b = tf.placeholder(dtype=tf.float32, shape=(2))\n",
    "\n",
    "def forward(x):\n",
    "  with tf.variable_scope(\"matmul\", reuse=tf.AUTO_REUSE):\n",
    "    W = tf.get_variable(\"W\", initializer=tf.ones(shape=(2,2)),\n",
    "                        regularizer=tf.contrib.layers.l2_regularizer(0.04))\n",
    "    b = tf.get_variable(\"b\", initializer=tf.zeros(shape=(2)))\n",
    "    return W * x + b\n",
    "\n",
    "out_a = forward(in_a)\n",
    "out_b = forward(in_b)\n",
    "\n",
    "reg_loss = tf.losses.get_regularization_loss(scope=\"matmul\")\n",
    "\n",
    "with tf.Session() as sess:\n",
    "  sess.run(tf.global_variables_initializer())\n",
    "  outs = sess.run([out_a, out_b, reg_loss],\n",
    "                feed_dict={in_a: [1, 0], in_b: [0, 1]})"
   ]
  }
 ],
 "metadata": {
  "kernelspec": {
   "display_name": "MAI",
   "language": "python",
   "name": "mai"
  },
  "language_info": {
   "codemirror_mode": {
    "name": "ipython",
    "version": 3
   },
   "file_extension": ".py",
   "mimetype": "text/x-python",
   "name": "python",
   "nbconvert_exporter": "python",
   "pygments_lexer": "ipython3",
   "version": "3.8.5"
  }
 },
 "nbformat": 4,
 "nbformat_minor": 5
}
