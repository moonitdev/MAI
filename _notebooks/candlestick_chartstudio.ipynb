{
 "cells": [
  {
   "cell_type": "code",
   "execution_count": 2,
   "id": "contained-maria",
   "metadata": {},
   "outputs": [
    {
     "name": "stdout",
     "output_type": "stream",
     "text": [
      "Collecting pandas-datareader\n",
      "  Using cached pandas_datareader-0.9.0-py3-none-any.whl (107 kB)\n",
      "Requirement already satisfied: requests>=2.19.0 in c:\\programdata\\miniconda3\\envs\\mai\\lib\\site-packages (from pandas-datareader) (2.25.1)\n",
      "Requirement already satisfied: pandas>=0.23 in c:\\programdata\\miniconda3\\envs\\mai\\lib\\site-packages (from pandas-datareader) (1.2.1)\n",
      "Requirement already satisfied: lxml in c:\\programdata\\miniconda3\\envs\\mai\\lib\\site-packages (from pandas-datareader) (4.6.2)\n",
      "Requirement already satisfied: pytz>=2017.3 in c:\\programdata\\miniconda3\\envs\\mai\\lib\\site-packages (from pandas>=0.23->pandas-datareader) (2020.5)\n",
      "Requirement already satisfied: python-dateutil>=2.7.3 in c:\\programdata\\miniconda3\\envs\\mai\\lib\\site-packages (from pandas>=0.23->pandas-datareader) (2.8.1)\n",
      "Requirement already satisfied: numpy>=1.16.5 in c:\\programdata\\miniconda3\\envs\\mai\\lib\\site-packages (from pandas>=0.23->pandas-datareader) (1.19.2)\n",
      "Requirement already satisfied: six>=1.5 in c:\\programdata\\miniconda3\\envs\\mai\\lib\\site-packages (from python-dateutil>=2.7.3->pandas>=0.23->pandas-datareader) (1.15.0)\n",
      "Requirement already satisfied: idna<3,>=2.5 in c:\\programdata\\miniconda3\\envs\\mai\\lib\\site-packages (from requests>=2.19.0->pandas-datareader) (2.10)\n",
      "Requirement already satisfied: urllib3<1.27,>=1.21.1 in c:\\programdata\\miniconda3\\envs\\mai\\lib\\site-packages (from requests>=2.19.0->pandas-datareader) (1.26.3)\n",
      "Requirement already satisfied: chardet<5,>=3.0.2 in c:\\programdata\\miniconda3\\envs\\mai\\lib\\site-packages (from requests>=2.19.0->pandas-datareader) (4.0.0)\n",
      "Requirement already satisfied: certifi>=2017.4.17 in c:\\programdata\\miniconda3\\envs\\mai\\lib\\site-packages (from requests>=2.19.0->pandas-datareader) (2020.12.5)\n",
      "Installing collected packages: pandas-datareader\n",
      "Successfully installed pandas-datareader-0.9.0\n"
     ]
    }
   ],
   "source": [
    "!pip install pandas-datareader"
   ]
  },
  {
   "cell_type": "code",
   "execution_count": 5,
   "id": "acting-england",
   "metadata": {},
   "outputs": [
    {
     "name": "stdout",
     "output_type": "stream",
     "text": [
      "Collecting chart_studio\n",
      "  Using cached chart_studio-1.1.0-py3-none-any.whl (64 kB)\n",
      "Requirement already satisfied: six in c:\\programdata\\miniconda3\\envs\\mai\\lib\\site-packages (from chart_studio) (1.15.0)\n",
      "Requirement already satisfied: requests in c:\\programdata\\miniconda3\\envs\\mai\\lib\\site-packages (from chart_studio) (2.25.1)\n",
      "Collecting retrying>=1.3.3\n",
      "  Using cached retrying-1.3.3.tar.gz (10 kB)\n",
      "Collecting plotly\n",
      "  Downloading plotly-4.14.3-py2.py3-none-any.whl (13.2 MB)\n",
      "Requirement already satisfied: certifi>=2017.4.17 in c:\\programdata\\miniconda3\\envs\\mai\\lib\\site-packages (from requests->chart_studio) (2020.12.5)\n",
      "Requirement already satisfied: chardet<5,>=3.0.2 in c:\\programdata\\miniconda3\\envs\\mai\\lib\\site-packages (from requests->chart_studio) (4.0.0)\n",
      "Requirement already satisfied: urllib3<1.27,>=1.21.1 in c:\\programdata\\miniconda3\\envs\\mai\\lib\\site-packages (from requests->chart_studio) (1.26.3)\n",
      "Requirement already satisfied: idna<3,>=2.5 in c:\\programdata\\miniconda3\\envs\\mai\\lib\\site-packages (from requests->chart_studio) (2.10)\n",
      "Building wheels for collected packages: retrying\n",
      "  Building wheel for retrying (setup.py): started\n",
      "  Building wheel for retrying (setup.py): finished with status 'done'\n",
      "  Created wheel for retrying: filename=retrying-1.3.3-py3-none-any.whl size=11429 sha256=5f0e13a85996aa2753e9830afa6ee5532063f17ef9b8f555434e160c1b21d7a8\n",
      "  Stored in directory: c:\\users\\user\\appdata\\local\\pip\\cache\\wheels\\c4\\a7\\48\\0a434133f6d56e878ca511c0e6c38326907c0792f67b476e56\n",
      "Successfully built retrying\n",
      "Installing collected packages: retrying, plotly, chart-studio\n",
      "Successfully installed chart-studio-1.1.0 plotly-4.14.3 retrying-1.3.3\n"
     ]
    }
   ],
   "source": [
    "!pip install chart_studio"
   ]
  },
  {
   "cell_type": "code",
   "execution_count": 6,
   "id": "confirmed-salvation",
   "metadata": {},
   "outputs": [
    {
     "data": {
      "text/html": [
       "<div>\n",
       "<style scoped>\n",
       "    .dataframe tbody tr th:only-of-type {\n",
       "        vertical-align: middle;\n",
       "    }\n",
       "\n",
       "    .dataframe tbody tr th {\n",
       "        vertical-align: top;\n",
       "    }\n",
       "\n",
       "    .dataframe thead th {\n",
       "        text-align: right;\n",
       "    }\n",
       "</style>\n",
       "<table border=\"1\" class=\"dataframe\">\n",
       "  <thead>\n",
       "    <tr style=\"text-align: right;\">\n",
       "      <th></th>\n",
       "      <th>High</th>\n",
       "      <th>Low</th>\n",
       "      <th>Open</th>\n",
       "      <th>Close</th>\n",
       "      <th>Volume</th>\n",
       "      <th>Adj Close</th>\n",
       "    </tr>\n",
       "    <tr>\n",
       "      <th>Date</th>\n",
       "      <th></th>\n",
       "      <th></th>\n",
       "      <th></th>\n",
       "      <th></th>\n",
       "      <th></th>\n",
       "      <th></th>\n",
       "    </tr>\n",
       "  </thead>\n",
       "  <tbody>\n",
       "    <tr>\n",
       "      <th>2007-12-31</th>\n",
       "      <td>216.789993</td>\n",
       "      <td>209.500000</td>\n",
       "      <td>211.589996</td>\n",
       "      <td>215.050003</td>\n",
       "      <td>5834300.0</td>\n",
       "      <td>179.011047</td>\n",
       "    </tr>\n",
       "    <tr>\n",
       "      <th>2008-01-02</th>\n",
       "      <td>215.050003</td>\n",
       "      <td>206.600006</td>\n",
       "      <td>214.800003</td>\n",
       "      <td>207.600006</td>\n",
       "      <td>9573500.0</td>\n",
       "      <td>172.809540</td>\n",
       "    </tr>\n",
       "    <tr>\n",
       "      <th>2008-01-03</th>\n",
       "      <td>209.039993</td>\n",
       "      <td>204.139999</td>\n",
       "      <td>208.919998</td>\n",
       "      <td>204.839996</td>\n",
       "      <td>7751700.0</td>\n",
       "      <td>170.512054</td>\n",
       "    </tr>\n",
       "    <tr>\n",
       "      <th>2008-01-04</th>\n",
       "      <td>204.000000</td>\n",
       "      <td>198.289993</td>\n",
       "      <td>201.000000</td>\n",
       "      <td>199.929993</td>\n",
       "      <td>10157900.0</td>\n",
       "      <td>166.424866</td>\n",
       "    </tr>\n",
       "    <tr>\n",
       "      <th>2008-01-07</th>\n",
       "      <td>200.250000</td>\n",
       "      <td>189.990005</td>\n",
       "      <td>200.229996</td>\n",
       "      <td>194.729996</td>\n",
       "      <td>16044400.0</td>\n",
       "      <td>162.096329</td>\n",
       "    </tr>\n",
       "  </tbody>\n",
       "</table>\n",
       "</div>"
      ],
      "text/plain": [
       "                  High         Low        Open       Close      Volume  \\\n",
       "Date                                                                     \n",
       "2007-12-31  216.789993  209.500000  211.589996  215.050003   5834300.0   \n",
       "2008-01-02  215.050003  206.600006  214.800003  207.600006   9573500.0   \n",
       "2008-01-03  209.039993  204.139999  208.919998  204.839996   7751700.0   \n",
       "2008-01-04  204.000000  198.289993  201.000000  199.929993  10157900.0   \n",
       "2008-01-07  200.250000  189.990005  200.229996  194.729996  16044400.0   \n",
       "\n",
       "             Adj Close  \n",
       "Date                    \n",
       "2007-12-31  179.011047  \n",
       "2008-01-02  172.809540  \n",
       "2008-01-03  170.512054  \n",
       "2008-01-04  166.424866  \n",
       "2008-01-07  162.096329  "
      ]
     },
     "execution_count": 6,
     "metadata": {},
     "output_type": "execute_result"
    }
   ],
   "source": [
    "import pandas_datareader.data as web\n",
    "from datetime import datetime\n",
    "import numpy as np\n",
    "import pandas as pd\n",
    "# import plotly.plotly as py # deprecated\n",
    "import chart_studio.plotly as py\n",
    "df = web.DataReader(\"gs\", 'yahoo', datetime(2008, 1, 1), datetime(2008, 12, 28))\n",
    "df.head()"
   ]
  },
  {
   "cell_type": "code",
   "execution_count": 14,
   "id": "decimal-addition",
   "metadata": {},
   "outputs": [],
   "source": [
    "### Initial candlestick chart\n",
    "# INCREASING_COLOR = '#17BECF'\n",
    "# DECREASING_COLOR = '#7F7F7F'\n",
    "\n",
    "INCREASING_COLOR = '#00FF00'\n",
    "DECREASING_COLOR = '#FF0000'\n",
    "\n",
    "data = [ dict(\n",
    "    type = 'candlestick',\n",
    "    open = df.Open,\n",
    "    high = df.High,\n",
    "    low = df.Low,\n",
    "    close = df.Close,\n",
    "    x = df.index,\n",
    "    yaxis = 'y2',\n",
    "    name = 'GS',\n",
    "    increasing = dict( line = dict( color = INCREASING_COLOR ) ),\n",
    "    decreasing = dict( line = dict( color = DECREASING_COLOR ) ),\n",
    ") ]\n",
    "\n",
    "layout=dict()\n",
    "\n",
    "fig = dict( data=data, layout=layout )"
   ]
  },
  {
   "cell_type": "code",
   "execution_count": 15,
   "id": "prostate-potential",
   "metadata": {},
   "outputs": [],
   "source": [
    "### Create the layout object\n",
    "fig['layout'] = dict()\n",
    "fig['layout']['plot_bgcolor'] = 'rgb(250, 250, 250)'\n",
    "fig['layout']['xaxis'] = dict( rangeselector = dict( visible = True ) )\n",
    "fig['layout']['yaxis'] = dict( domain = [0, 0.2], showticklabels = False )\n",
    "fig['layout']['yaxis2'] = dict( domain = [0.2, 0.8] )\n",
    "fig['layout']['legend'] = dict( orientation = 'h', y=0.9, x=0.3, yanchor='bottom' )\n",
    "fig['layout']['margin'] = dict( t=40, b=40, r=40, l=40 )"
   ]
  },
  {
   "cell_type": "code",
   "execution_count": 16,
   "id": "eight-course",
   "metadata": {},
   "outputs": [],
   "source": [
    "### Set volume bar chart colors\n",
    "colors = []\n",
    "\n",
    "for i in range(len(df.Close)):\n",
    "    if i != 0:\n",
    "        if df.Close[i] > df.Close[i-1]:\n",
    "            colors.append(INCREASING_COLOR)\n",
    "        else:\n",
    "            colors.append(DECREASING_COLOR)\n",
    "    else:\n",
    "        colors.append(DECREASING_COLOR)\n",
    "\n",
    "### Add volume bar chart\n",
    "fig['data'].append( dict( x=df.index, y=df.Volume,                         \n",
    "                         marker=dict( color=colors ),\n",
    "                         type='bar', yaxis='y', name='Volume' ) )"
   ]
  },
  {
   "cell_type": "code",
   "execution_count": 17,
   "id": "intended-still",
   "metadata": {},
   "outputs": [
    {
     "data": {
      "text/html": [
       "\n",
       "        <iframe\n",
       "            width=\"100%\"\n",
       "            height=\"525px\"\n",
       "            src=\"https://plotly.com/~moonitdev/1.embed\"\n",
       "            frameborder=\"0\"\n",
       "            allowfullscreen\n",
       "        ></iframe>\n",
       "        "
      ],
      "text/plain": [
       "<IPython.lib.display.IFrame at 0x21e3d44bc40>"
      ]
     },
     "execution_count": 17,
     "metadata": {},
     "output_type": "execute_result"
    }
   ],
   "source": [
    "import chart_studio\n",
    "chart_studio.tools.set_credentials_file(username='moonitdev', api_key='DbXc9QegWCJfTHJk5M1O')\n",
    "\n",
    "py.iplot( fig, filename = 'candlestick-test-3', validate = False )"
   ]
  },
  {
   "cell_type": "code",
   "execution_count": null,
   "id": "verbal-pittsburgh",
   "metadata": {},
   "outputs": [],
   "source": []
  }
 ],
 "metadata": {
  "kernelspec": {
   "display_name": "MAI",
   "language": "python",
   "name": "mai"
  },
  "language_info": {
   "codemirror_mode": {
    "name": "ipython",
    "version": 3
   },
   "file_extension": ".py",
   "mimetype": "text/x-python",
   "name": "python",
   "nbconvert_exporter": "python",
   "pygments_lexer": "ipython3",
   "version": "3.8.5"
  }
 },
 "nbformat": 4,
 "nbformat_minor": 5
}
